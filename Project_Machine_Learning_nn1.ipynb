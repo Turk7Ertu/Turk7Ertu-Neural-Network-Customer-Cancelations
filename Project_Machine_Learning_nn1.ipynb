{
 "cells": [
  {
   "cell_type": "code",
   "execution_count": 457,
   "id": "6bcd9444-1e01-4718-9b23-8b6c75757b1a",
   "metadata": {},
   "outputs": [],
   "source": [
    "import pandas as pd \n",
    "import numpy as np \n",
    "import torch\n",
    "import matplotlib.pyplot as plt\n",
    "from sklearn.model_selection import train_test_split\n",
    "from sklearn.preprocessing import StandardScaler\n",
    "from sklearn.preprocessing import OneHotEncoder, LabelEncoder"
   ]
  },
  {
   "cell_type": "code",
   "execution_count": 458,
   "id": "2e5cf36f-68a8-40ad-ba00-4376c9a70cef",
   "metadata": {},
   "outputs": [],
   "source": [
    "data_path = \"/Users/ertuboston/Documents/Data_Science_Merrimack/DSE6211 - Machine Learning & AI /PROJECT/DATA/project_data.csv\"\n",
    "\n",
    "data = pd.read_csv(data_path)"
   ]
  },
  {
   "cell_type": "code",
   "execution_count": 459,
   "id": "abe72444-7827-4997-a4f9-9d744bc8dcd9",
   "metadata": {},
   "outputs": [
    {
     "data": {
      "text/html": [
       "<div>\n",
       "<style scoped>\n",
       "    .dataframe tbody tr th:only-of-type {\n",
       "        vertical-align: middle;\n",
       "    }\n",
       "\n",
       "    .dataframe tbody tr th {\n",
       "        vertical-align: top;\n",
       "    }\n",
       "\n",
       "    .dataframe thead th {\n",
       "        text-align: right;\n",
       "    }\n",
       "</style>\n",
       "<table border=\"1\" class=\"dataframe\">\n",
       "  <thead>\n",
       "    <tr style=\"text-align: right;\">\n",
       "      <th></th>\n",
       "      <th>Booking_ID</th>\n",
       "      <th>no_of_adults</th>\n",
       "      <th>no_of_children</th>\n",
       "      <th>no_of_weekend_nights</th>\n",
       "      <th>no_of_week_nights</th>\n",
       "      <th>type_of_meal_plan</th>\n",
       "      <th>required_car_parking_space</th>\n",
       "      <th>room_type_reserved</th>\n",
       "      <th>lead_time</th>\n",
       "      <th>arrival_date</th>\n",
       "      <th>market_segment_type</th>\n",
       "      <th>repeated_guest</th>\n",
       "      <th>no_of_previous_cancellations</th>\n",
       "      <th>no_of_previous_bookings_not_canceled</th>\n",
       "      <th>avg_price_per_room</th>\n",
       "      <th>no_of_special_requests</th>\n",
       "      <th>booking_status</th>\n",
       "    </tr>\n",
       "  </thead>\n",
       "  <tbody>\n",
       "    <tr>\n",
       "      <th>0</th>\n",
       "      <td>INN00001</td>\n",
       "      <td>2</td>\n",
       "      <td>0</td>\n",
       "      <td>1</td>\n",
       "      <td>2</td>\n",
       "      <td>meal_plan_1</td>\n",
       "      <td>0</td>\n",
       "      <td>room_type1</td>\n",
       "      <td>224</td>\n",
       "      <td>2017-10-02</td>\n",
       "      <td>offline</td>\n",
       "      <td>0</td>\n",
       "      <td>0</td>\n",
       "      <td>0</td>\n",
       "      <td>65.00</td>\n",
       "      <td>0</td>\n",
       "      <td>not_canceled</td>\n",
       "    </tr>\n",
       "    <tr>\n",
       "      <th>1</th>\n",
       "      <td>INN00002</td>\n",
       "      <td>2</td>\n",
       "      <td>0</td>\n",
       "      <td>2</td>\n",
       "      <td>3</td>\n",
       "      <td>not_selected</td>\n",
       "      <td>0</td>\n",
       "      <td>room_type1</td>\n",
       "      <td>5</td>\n",
       "      <td>2018-11-06</td>\n",
       "      <td>online</td>\n",
       "      <td>0</td>\n",
       "      <td>0</td>\n",
       "      <td>0</td>\n",
       "      <td>106.68</td>\n",
       "      <td>1</td>\n",
       "      <td>not_canceled</td>\n",
       "    </tr>\n",
       "    <tr>\n",
       "      <th>2</th>\n",
       "      <td>INN00003</td>\n",
       "      <td>1</td>\n",
       "      <td>0</td>\n",
       "      <td>2</td>\n",
       "      <td>1</td>\n",
       "      <td>meal_plan_1</td>\n",
       "      <td>0</td>\n",
       "      <td>room_type1</td>\n",
       "      <td>1</td>\n",
       "      <td>2018-02-28</td>\n",
       "      <td>online</td>\n",
       "      <td>0</td>\n",
       "      <td>0</td>\n",
       "      <td>0</td>\n",
       "      <td>60.00</td>\n",
       "      <td>0</td>\n",
       "      <td>canceled</td>\n",
       "    </tr>\n",
       "    <tr>\n",
       "      <th>3</th>\n",
       "      <td>INN00004</td>\n",
       "      <td>2</td>\n",
       "      <td>0</td>\n",
       "      <td>0</td>\n",
       "      <td>2</td>\n",
       "      <td>meal_plan_1</td>\n",
       "      <td>0</td>\n",
       "      <td>room_type1</td>\n",
       "      <td>211</td>\n",
       "      <td>2018-05-20</td>\n",
       "      <td>online</td>\n",
       "      <td>0</td>\n",
       "      <td>0</td>\n",
       "      <td>0</td>\n",
       "      <td>100.00</td>\n",
       "      <td>0</td>\n",
       "      <td>canceled</td>\n",
       "    </tr>\n",
       "    <tr>\n",
       "      <th>4</th>\n",
       "      <td>INN00005</td>\n",
       "      <td>2</td>\n",
       "      <td>0</td>\n",
       "      <td>1</td>\n",
       "      <td>1</td>\n",
       "      <td>not_selected</td>\n",
       "      <td>0</td>\n",
       "      <td>room_type1</td>\n",
       "      <td>48</td>\n",
       "      <td>2018-04-11</td>\n",
       "      <td>online</td>\n",
       "      <td>0</td>\n",
       "      <td>0</td>\n",
       "      <td>0</td>\n",
       "      <td>94.50</td>\n",
       "      <td>0</td>\n",
       "      <td>canceled</td>\n",
       "    </tr>\n",
       "  </tbody>\n",
       "</table>\n",
       "</div>"
      ],
      "text/plain": [
       "  Booking_ID  no_of_adults  no_of_children  no_of_weekend_nights  \\\n",
       "0   INN00001             2               0                     1   \n",
       "1   INN00002             2               0                     2   \n",
       "2   INN00003             1               0                     2   \n",
       "3   INN00004             2               0                     0   \n",
       "4   INN00005             2               0                     1   \n",
       "\n",
       "   no_of_week_nights type_of_meal_plan  required_car_parking_space  \\\n",
       "0                  2       meal_plan_1                           0   \n",
       "1                  3      not_selected                           0   \n",
       "2                  1       meal_plan_1                           0   \n",
       "3                  2       meal_plan_1                           0   \n",
       "4                  1      not_selected                           0   \n",
       "\n",
       "  room_type_reserved  lead_time arrival_date market_segment_type  \\\n",
       "0         room_type1        224   2017-10-02             offline   \n",
       "1         room_type1          5   2018-11-06              online   \n",
       "2         room_type1          1   2018-02-28              online   \n",
       "3         room_type1        211   2018-05-20              online   \n",
       "4         room_type1         48   2018-04-11              online   \n",
       "\n",
       "   repeated_guest  no_of_previous_cancellations  \\\n",
       "0               0                             0   \n",
       "1               0                             0   \n",
       "2               0                             0   \n",
       "3               0                             0   \n",
       "4               0                             0   \n",
       "\n",
       "   no_of_previous_bookings_not_canceled  avg_price_per_room  \\\n",
       "0                                     0               65.00   \n",
       "1                                     0              106.68   \n",
       "2                                     0               60.00   \n",
       "3                                     0              100.00   \n",
       "4                                     0               94.50   \n",
       "\n",
       "   no_of_special_requests booking_status  \n",
       "0                       0   not_canceled  \n",
       "1                       1   not_canceled  \n",
       "2                       0       canceled  \n",
       "3                       0       canceled  \n",
       "4                       0       canceled  "
      ]
     },
     "execution_count": 459,
     "metadata": {},
     "output_type": "execute_result"
    }
   ],
   "source": [
    "data.head()"
   ]
  },
  {
   "cell_type": "code",
   "execution_count": 460,
   "id": "b9a94c99-fb10-453f-836f-e14d37e4c1ab",
   "metadata": {},
   "outputs": [
    {
     "data": {
      "text/html": [
       "<div>\n",
       "<style scoped>\n",
       "    .dataframe tbody tr th:only-of-type {\n",
       "        vertical-align: middle;\n",
       "    }\n",
       "\n",
       "    .dataframe tbody tr th {\n",
       "        vertical-align: top;\n",
       "    }\n",
       "\n",
       "    .dataframe thead th {\n",
       "        text-align: right;\n",
       "    }\n",
       "</style>\n",
       "<table border=\"1\" class=\"dataframe\">\n",
       "  <thead>\n",
       "    <tr style=\"text-align: right;\">\n",
       "      <th></th>\n",
       "      <th>no_of_adults</th>\n",
       "      <th>no_of_children</th>\n",
       "      <th>no_of_weekend_nights</th>\n",
       "      <th>no_of_week_nights</th>\n",
       "      <th>required_car_parking_space</th>\n",
       "      <th>lead_time</th>\n",
       "      <th>repeated_guest</th>\n",
       "      <th>no_of_previous_cancellations</th>\n",
       "      <th>no_of_previous_bookings_not_canceled</th>\n",
       "      <th>avg_price_per_room</th>\n",
       "      <th>no_of_special_requests</th>\n",
       "    </tr>\n",
       "  </thead>\n",
       "  <tbody>\n",
       "    <tr>\n",
       "      <th>count</th>\n",
       "      <td>36238.000000</td>\n",
       "      <td>36238.000000</td>\n",
       "      <td>36238.000000</td>\n",
       "      <td>36238.000000</td>\n",
       "      <td>36238.000000</td>\n",
       "      <td>36238.000000</td>\n",
       "      <td>36238.000000</td>\n",
       "      <td>36238.000000</td>\n",
       "      <td>36238.000000</td>\n",
       "      <td>36238.000000</td>\n",
       "      <td>36238.000000</td>\n",
       "    </tr>\n",
       "    <tr>\n",
       "      <th>mean</th>\n",
       "      <td>1.845301</td>\n",
       "      <td>0.105221</td>\n",
       "      <td>0.810475</td>\n",
       "      <td>2.204206</td>\n",
       "      <td>0.030934</td>\n",
       "      <td>85.275070</td>\n",
       "      <td>0.025553</td>\n",
       "      <td>0.023346</td>\n",
       "      <td>0.152961</td>\n",
       "      <td>103.437259</td>\n",
       "      <td>0.619957</td>\n",
       "    </tr>\n",
       "    <tr>\n",
       "      <th>std</th>\n",
       "      <td>0.518572</td>\n",
       "      <td>0.402540</td>\n",
       "      <td>0.870992</td>\n",
       "      <td>1.410784</td>\n",
       "      <td>0.173142</td>\n",
       "      <td>85.953561</td>\n",
       "      <td>0.157801</td>\n",
       "      <td>0.368483</td>\n",
       "      <td>1.753366</td>\n",
       "      <td>35.084264</td>\n",
       "      <td>0.786403</td>\n",
       "    </tr>\n",
       "    <tr>\n",
       "      <th>min</th>\n",
       "      <td>0.000000</td>\n",
       "      <td>0.000000</td>\n",
       "      <td>0.000000</td>\n",
       "      <td>0.000000</td>\n",
       "      <td>0.000000</td>\n",
       "      <td>0.000000</td>\n",
       "      <td>0.000000</td>\n",
       "      <td>0.000000</td>\n",
       "      <td>0.000000</td>\n",
       "      <td>0.000000</td>\n",
       "      <td>0.000000</td>\n",
       "    </tr>\n",
       "    <tr>\n",
       "      <th>25%</th>\n",
       "      <td>2.000000</td>\n",
       "      <td>0.000000</td>\n",
       "      <td>0.000000</td>\n",
       "      <td>1.000000</td>\n",
       "      <td>0.000000</td>\n",
       "      <td>17.000000</td>\n",
       "      <td>0.000000</td>\n",
       "      <td>0.000000</td>\n",
       "      <td>0.000000</td>\n",
       "      <td>80.300000</td>\n",
       "      <td>0.000000</td>\n",
       "    </tr>\n",
       "    <tr>\n",
       "      <th>50%</th>\n",
       "      <td>2.000000</td>\n",
       "      <td>0.000000</td>\n",
       "      <td>1.000000</td>\n",
       "      <td>2.000000</td>\n",
       "      <td>0.000000</td>\n",
       "      <td>57.000000</td>\n",
       "      <td>0.000000</td>\n",
       "      <td>0.000000</td>\n",
       "      <td>0.000000</td>\n",
       "      <td>99.450000</td>\n",
       "      <td>0.000000</td>\n",
       "    </tr>\n",
       "    <tr>\n",
       "      <th>75%</th>\n",
       "      <td>2.000000</td>\n",
       "      <td>0.000000</td>\n",
       "      <td>2.000000</td>\n",
       "      <td>3.000000</td>\n",
       "      <td>0.000000</td>\n",
       "      <td>126.000000</td>\n",
       "      <td>0.000000</td>\n",
       "      <td>0.000000</td>\n",
       "      <td>0.000000</td>\n",
       "      <td>120.000000</td>\n",
       "      <td>1.000000</td>\n",
       "    </tr>\n",
       "    <tr>\n",
       "      <th>max</th>\n",
       "      <td>4.000000</td>\n",
       "      <td>10.000000</td>\n",
       "      <td>7.000000</td>\n",
       "      <td>17.000000</td>\n",
       "      <td>1.000000</td>\n",
       "      <td>443.000000</td>\n",
       "      <td>1.000000</td>\n",
       "      <td>13.000000</td>\n",
       "      <td>58.000000</td>\n",
       "      <td>540.000000</td>\n",
       "      <td>5.000000</td>\n",
       "    </tr>\n",
       "  </tbody>\n",
       "</table>\n",
       "</div>"
      ],
      "text/plain": [
       "       no_of_adults  no_of_children  no_of_weekend_nights  no_of_week_nights  \\\n",
       "count  36238.000000    36238.000000          36238.000000       36238.000000   \n",
       "mean       1.845301        0.105221              0.810475           2.204206   \n",
       "std        0.518572        0.402540              0.870992           1.410784   \n",
       "min        0.000000        0.000000              0.000000           0.000000   \n",
       "25%        2.000000        0.000000              0.000000           1.000000   \n",
       "50%        2.000000        0.000000              1.000000           2.000000   \n",
       "75%        2.000000        0.000000              2.000000           3.000000   \n",
       "max        4.000000       10.000000              7.000000          17.000000   \n",
       "\n",
       "       required_car_parking_space     lead_time  repeated_guest  \\\n",
       "count                36238.000000  36238.000000    36238.000000   \n",
       "mean                     0.030934     85.275070        0.025553   \n",
       "std                      0.173142     85.953561        0.157801   \n",
       "min                      0.000000      0.000000        0.000000   \n",
       "25%                      0.000000     17.000000        0.000000   \n",
       "50%                      0.000000     57.000000        0.000000   \n",
       "75%                      0.000000    126.000000        0.000000   \n",
       "max                      1.000000    443.000000        1.000000   \n",
       "\n",
       "       no_of_previous_cancellations  no_of_previous_bookings_not_canceled  \\\n",
       "count                  36238.000000                          36238.000000   \n",
       "mean                       0.023346                              0.152961   \n",
       "std                        0.368483                              1.753366   \n",
       "min                        0.000000                              0.000000   \n",
       "25%                        0.000000                              0.000000   \n",
       "50%                        0.000000                              0.000000   \n",
       "75%                        0.000000                              0.000000   \n",
       "max                       13.000000                             58.000000   \n",
       "\n",
       "       avg_price_per_room  no_of_special_requests  \n",
       "count        36238.000000            36238.000000  \n",
       "mean           103.437259                0.619957  \n",
       "std             35.084264                0.786403  \n",
       "min              0.000000                0.000000  \n",
       "25%             80.300000                0.000000  \n",
       "50%             99.450000                0.000000  \n",
       "75%            120.000000                1.000000  \n",
       "max            540.000000                5.000000  "
      ]
     },
     "execution_count": 460,
     "metadata": {},
     "output_type": "execute_result"
    }
   ],
   "source": [
    "data.describe()"
   ]
  },
  {
   "cell_type": "code",
   "execution_count": 461,
   "id": "45765c83-a3a9-44f3-af4c-63245df1b63b",
   "metadata": {},
   "outputs": [
    {
     "data": {
      "text/plain": [
       "Booking_ID                              0\n",
       "no_of_adults                            0\n",
       "no_of_children                          0\n",
       "no_of_weekend_nights                    0\n",
       "no_of_week_nights                       0\n",
       "type_of_meal_plan                       0\n",
       "required_car_parking_space              0\n",
       "room_type_reserved                      0\n",
       "lead_time                               0\n",
       "arrival_date                            0\n",
       "market_segment_type                     0\n",
       "repeated_guest                          0\n",
       "no_of_previous_cancellations            0\n",
       "no_of_previous_bookings_not_canceled    0\n",
       "avg_price_per_room                      0\n",
       "no_of_special_requests                  0\n",
       "booking_status                          0\n",
       "dtype: int64"
      ]
     },
     "execution_count": 461,
     "metadata": {},
     "output_type": "execute_result"
    }
   ],
   "source": [
    "# check the na values in the data\n",
    "\n",
    "nan_counts = data.isna().sum()\n",
    "nan_counts"
   ]
  },
  {
   "cell_type": "code",
   "execution_count": 462,
   "id": "5afda351-9dd6-4742-a70b-be5cc5d420bd",
   "metadata": {},
   "outputs": [
    {
     "name": "stdout",
     "output_type": "stream",
     "text": [
      "<class 'pandas.core.frame.DataFrame'>\n",
      "RangeIndex: 36238 entries, 0 to 36237\n",
      "Data columns (total 17 columns):\n",
      " #   Column                                Non-Null Count  Dtype  \n",
      "---  ------                                --------------  -----  \n",
      " 0   Booking_ID                            36238 non-null  object \n",
      " 1   no_of_adults                          36238 non-null  int64  \n",
      " 2   no_of_children                        36238 non-null  int64  \n",
      " 3   no_of_weekend_nights                  36238 non-null  int64  \n",
      " 4   no_of_week_nights                     36238 non-null  int64  \n",
      " 5   type_of_meal_plan                     36238 non-null  object \n",
      " 6   required_car_parking_space            36238 non-null  int64  \n",
      " 7   room_type_reserved                    36238 non-null  object \n",
      " 8   lead_time                             36238 non-null  int64  \n",
      " 9   arrival_date                          36238 non-null  object \n",
      " 10  market_segment_type                   36238 non-null  object \n",
      " 11  repeated_guest                        36238 non-null  int64  \n",
      " 12  no_of_previous_cancellations          36238 non-null  int64  \n",
      " 13  no_of_previous_bookings_not_canceled  36238 non-null  int64  \n",
      " 14  avg_price_per_room                    36238 non-null  float64\n",
      " 15  no_of_special_requests                36238 non-null  int64  \n",
      " 16  booking_status                        36238 non-null  object \n",
      "dtypes: float64(1), int64(10), object(6)\n",
      "memory usage: 4.7+ MB\n"
     ]
    }
   ],
   "source": [
    "data.info()   # or print(data.types())"
   ]
  },
  {
   "cell_type": "code",
   "execution_count": 463,
   "id": "2207fe8f-53ae-40b1-98e7-b24f27dad88a",
   "metadata": {},
   "outputs": [
    {
     "name": "stdout",
     "output_type": "stream",
     "text": [
      "False\n"
     ]
    }
   ],
   "source": [
    "print(isinstance(data,np.ndarray))"
   ]
  },
  {
   "cell_type": "code",
   "execution_count": 464,
   "id": "9c4c2c96-9d76-44b1-8046-256f097bb3d0",
   "metadata": {},
   "outputs": [
    {
     "data": {
      "text/plain": [
       "((36238, 17), 616046, 2)"
      ]
     },
     "execution_count": 464,
     "metadata": {},
     "output_type": "execute_result"
    }
   ],
   "source": [
    "data.shape, data.size, data.ndim"
   ]
  },
  {
   "cell_type": "markdown",
   "id": "b681584b-66b7-4434-a7c5-38a8b159718d",
   "metadata": {},
   "source": [
    "##### We have a total of 17 features and 16 of them are inputs while the one at the end is the output. \n",
    "\n",
    "\n",
    "##### Target value or dependent value is \"booking status\". The target value is an object and there are more object types in the data frame,\n"
   ]
  },
  {
   "cell_type": "markdown",
   "id": "99089b78-3800-4898-8916-7a74c6dd3de4",
   "metadata": {},
   "source": [
    "#### **Some Ideas**\n",
    "##### Before we continue with the data frame, we should convert them to numerical types for machine learning models, like int or float. \n",
    "\n",
    "##### But first we should take care of the arrival_date feature"
   ]
  },
  {
   "cell_type": "code",
   "execution_count": 467,
   "id": "04270879-23e3-47d0-9e39-8febffaca039",
   "metadata": {},
   "outputs": [],
   "source": [
    "# Lets convert the arrival_data column to date\n",
    "\n",
    "data['arrival_date'] = pd.to_datetime(data['arrival_date'])"
   ]
  },
  {
   "cell_type": "code",
   "execution_count": 468,
   "id": "8e571a1b-dc0c-495d-b176-ca36a57c916d",
   "metadata": {},
   "outputs": [],
   "source": [
    "# lets take the season out. \n",
    "\n",
    "def get_season(date): \n",
    "    month = date.month\n",
    "    if month in [12,1,2]: \n",
    "        return 'Winter'\n",
    "    elif month in [3,4,5]: \n",
    "        return 'Spring'\n",
    "    elif month in [6,7,8]: \n",
    "        return ' Summer'\n",
    "    elif month in [9,10,11]: \n",
    "        return 'Fall'\n",
    "\n",
    "## Add the season column in to data \n",
    "data['season'] = data['arrival_date'].apply(get_season)"
   ]
  },
  {
   "cell_type": "code",
   "execution_count": 469,
   "id": "5f89c2da-2920-4beb-a5b8-2b431816155d",
   "metadata": {},
   "outputs": [],
   "source": [
    "# Now let's drop the arrival date \n",
    "\n",
    "data = data.drop(columns = ['arrival_date'])"
   ]
  },
  {
   "cell_type": "code",
   "execution_count": 470,
   "id": "651dea1f-8c6e-46f3-84df-99679f35de91",
   "metadata": {},
   "outputs": [],
   "source": [
    "# First drop the target value and we can put it in another data set \"y\"\n",
    "# We should also drop the bookingID column since it won't be useful for the training model\n",
    "\n",
    "X = data.drop(['Booking_ID','booking_status'], axis = 1)\n",
    "y = data['booking_status']\n",
    "X_tr, X_test, y_tr, y_test = train_test_split(X, y, test_size=0.20, random_state = 33)"
   ]
  },
  {
   "cell_type": "code",
   "execution_count": 471,
   "id": "dec48eb7-799c-4130-87ef-d335f829fb37",
   "metadata": {},
   "outputs": [],
   "source": [
    "X_train, X_valid, y_train, y_valid = train_test_split(X_tr, y_tr, test_size=0.25, random_state = 33)"
   ]
  },
  {
   "cell_type": "code",
   "execution_count": 472,
   "id": "55818912-b320-4b1a-a160-9f28bb12cba0",
   "metadata": {},
   "outputs": [
    {
     "data": {
      "text/plain": [
       "((36238, 15), (21742, 15), (7248, 15), (7248, 15))"
      ]
     },
     "execution_count": 472,
     "metadata": {},
     "output_type": "execute_result"
    }
   ],
   "source": [
    "X.shape, X_train.shape, X_test.shape, X_valid.shape"
   ]
  },
  {
   "cell_type": "code",
   "execution_count": 473,
   "id": "d398c8e3-e79f-41ee-9513-c8279d2166f0",
   "metadata": {},
   "outputs": [
    {
     "data": {
      "text/html": [
       "<div>\n",
       "<style scoped>\n",
       "    .dataframe tbody tr th:only-of-type {\n",
       "        vertical-align: middle;\n",
       "    }\n",
       "\n",
       "    .dataframe tbody tr th {\n",
       "        vertical-align: top;\n",
       "    }\n",
       "\n",
       "    .dataframe thead th {\n",
       "        text-align: right;\n",
       "    }\n",
       "</style>\n",
       "<table border=\"1\" class=\"dataframe\">\n",
       "  <thead>\n",
       "    <tr style=\"text-align: right;\">\n",
       "      <th></th>\n",
       "      <th>no_of_adults</th>\n",
       "      <th>no_of_children</th>\n",
       "      <th>no_of_weekend_nights</th>\n",
       "      <th>no_of_week_nights</th>\n",
       "      <th>type_of_meal_plan</th>\n",
       "      <th>required_car_parking_space</th>\n",
       "      <th>room_type_reserved</th>\n",
       "      <th>lead_time</th>\n",
       "      <th>market_segment_type</th>\n",
       "      <th>repeated_guest</th>\n",
       "      <th>no_of_previous_cancellations</th>\n",
       "      <th>no_of_previous_bookings_not_canceled</th>\n",
       "      <th>avg_price_per_room</th>\n",
       "      <th>no_of_special_requests</th>\n",
       "      <th>season</th>\n",
       "    </tr>\n",
       "  </thead>\n",
       "  <tbody>\n",
       "    <tr>\n",
       "      <th>0</th>\n",
       "      <td>2</td>\n",
       "      <td>0</td>\n",
       "      <td>1</td>\n",
       "      <td>2</td>\n",
       "      <td>meal_plan_1</td>\n",
       "      <td>0</td>\n",
       "      <td>room_type1</td>\n",
       "      <td>224</td>\n",
       "      <td>offline</td>\n",
       "      <td>0</td>\n",
       "      <td>0</td>\n",
       "      <td>0</td>\n",
       "      <td>65.00</td>\n",
       "      <td>0</td>\n",
       "      <td>Fall</td>\n",
       "    </tr>\n",
       "    <tr>\n",
       "      <th>1</th>\n",
       "      <td>2</td>\n",
       "      <td>0</td>\n",
       "      <td>2</td>\n",
       "      <td>3</td>\n",
       "      <td>not_selected</td>\n",
       "      <td>0</td>\n",
       "      <td>room_type1</td>\n",
       "      <td>5</td>\n",
       "      <td>online</td>\n",
       "      <td>0</td>\n",
       "      <td>0</td>\n",
       "      <td>0</td>\n",
       "      <td>106.68</td>\n",
       "      <td>1</td>\n",
       "      <td>Fall</td>\n",
       "    </tr>\n",
       "    <tr>\n",
       "      <th>2</th>\n",
       "      <td>1</td>\n",
       "      <td>0</td>\n",
       "      <td>2</td>\n",
       "      <td>1</td>\n",
       "      <td>meal_plan_1</td>\n",
       "      <td>0</td>\n",
       "      <td>room_type1</td>\n",
       "      <td>1</td>\n",
       "      <td>online</td>\n",
       "      <td>0</td>\n",
       "      <td>0</td>\n",
       "      <td>0</td>\n",
       "      <td>60.00</td>\n",
       "      <td>0</td>\n",
       "      <td>Winter</td>\n",
       "    </tr>\n",
       "    <tr>\n",
       "      <th>3</th>\n",
       "      <td>2</td>\n",
       "      <td>0</td>\n",
       "      <td>0</td>\n",
       "      <td>2</td>\n",
       "      <td>meal_plan_1</td>\n",
       "      <td>0</td>\n",
       "      <td>room_type1</td>\n",
       "      <td>211</td>\n",
       "      <td>online</td>\n",
       "      <td>0</td>\n",
       "      <td>0</td>\n",
       "      <td>0</td>\n",
       "      <td>100.00</td>\n",
       "      <td>0</td>\n",
       "      <td>Spring</td>\n",
       "    </tr>\n",
       "    <tr>\n",
       "      <th>4</th>\n",
       "      <td>2</td>\n",
       "      <td>0</td>\n",
       "      <td>1</td>\n",
       "      <td>1</td>\n",
       "      <td>not_selected</td>\n",
       "      <td>0</td>\n",
       "      <td>room_type1</td>\n",
       "      <td>48</td>\n",
       "      <td>online</td>\n",
       "      <td>0</td>\n",
       "      <td>0</td>\n",
       "      <td>0</td>\n",
       "      <td>94.50</td>\n",
       "      <td>0</td>\n",
       "      <td>Spring</td>\n",
       "    </tr>\n",
       "  </tbody>\n",
       "</table>\n",
       "</div>"
      ],
      "text/plain": [
       "   no_of_adults  no_of_children  no_of_weekend_nights  no_of_week_nights  \\\n",
       "0             2               0                     1                  2   \n",
       "1             2               0                     2                  3   \n",
       "2             1               0                     2                  1   \n",
       "3             2               0                     0                  2   \n",
       "4             2               0                     1                  1   \n",
       "\n",
       "  type_of_meal_plan  required_car_parking_space room_type_reserved  lead_time  \\\n",
       "0       meal_plan_1                           0         room_type1        224   \n",
       "1      not_selected                           0         room_type1          5   \n",
       "2       meal_plan_1                           0         room_type1          1   \n",
       "3       meal_plan_1                           0         room_type1        211   \n",
       "4      not_selected                           0         room_type1         48   \n",
       "\n",
       "  market_segment_type  repeated_guest  no_of_previous_cancellations  \\\n",
       "0             offline               0                             0   \n",
       "1              online               0                             0   \n",
       "2              online               0                             0   \n",
       "3              online               0                             0   \n",
       "4              online               0                             0   \n",
       "\n",
       "   no_of_previous_bookings_not_canceled  avg_price_per_room  \\\n",
       "0                                     0               65.00   \n",
       "1                                     0              106.68   \n",
       "2                                     0               60.00   \n",
       "3                                     0              100.00   \n",
       "4                                     0               94.50   \n",
       "\n",
       "   no_of_special_requests  season  \n",
       "0                       0    Fall  \n",
       "1                       1    Fall  \n",
       "2                       0  Winter  \n",
       "3                       0  Spring  \n",
       "4                       0  Spring  "
      ]
     },
     "execution_count": 473,
     "metadata": {},
     "output_type": "execute_result"
    }
   ],
   "source": [
    "X.head()"
   ]
  },
  {
   "cell_type": "markdown",
   "id": "71d9cd24-dea7-46e4-9874-de1940dc27df",
   "metadata": {},
   "source": [
    "##### the features 'type_of_meal, room_type_reserved, season, market_segment_type and booking_status' are object. I would like to check the unique values in these columns so I can understand how many columns would be created after I do one hot encoding"
   ]
  },
  {
   "cell_type": "code",
   "execution_count": 475,
   "id": "890c9231-7a1b-45c1-9848-bb34e750a1e3",
   "metadata": {},
   "outputs": [
    {
     "name": "stdout",
     "output_type": "stream",
     "text": [
      "type_of_meal_plan      4\n",
      "room_type_reserved     7\n",
      "season                 4\n",
      "market_segment_type    5\n",
      "dtype: int64\n"
     ]
    }
   ],
   "source": [
    "print(X[['type_of_meal_plan', 'room_type_reserved', 'season', 'market_segment_type']].nunique())"
   ]
  },
  {
   "cell_type": "code",
   "execution_count": 476,
   "id": "bd1d3431-2d2b-4a3b-b86b-7b35020dc8e6",
   "metadata": {},
   "outputs": [
    {
     "data": {
      "text/plain": [
       "Index(['no_of_adults', 'no_of_children', 'no_of_weekend_nights',\n",
       "       'no_of_week_nights', 'required_car_parking_space', 'lead_time',\n",
       "       'repeated_guest', 'no_of_previous_cancellations',\n",
       "       'no_of_previous_bookings_not_canceled', 'avg_price_per_room',\n",
       "       'no_of_special_requests', 'type_of_meal_plan_meal_plan_1',\n",
       "       'type_of_meal_plan_meal_plan_2', 'type_of_meal_plan_meal_plan_3',\n",
       "       'type_of_meal_plan_not_selected', 'room_type_reserved_room_type1',\n",
       "       'room_type_reserved_room_type2', 'room_type_reserved_room_type3',\n",
       "       'room_type_reserved_room_type4', 'room_type_reserved_room_type5',\n",
       "       'room_type_reserved_room_type6', 'room_type_reserved_room_type7',\n",
       "       'market_segment_type_aviation', 'market_segment_type_complementary',\n",
       "       'market_segment_type_corporate', 'market_segment_type_offline',\n",
       "       'market_segment_type_online', 'season_ Summer', 'season_Fall',\n",
       "       'season_Spring', 'season_Winter'],\n",
       "      dtype='object')"
      ]
     },
     "execution_count": 476,
     "metadata": {},
     "output_type": "execute_result"
    }
   ],
   "source": [
    "## Now we can start the process of one hot encoding\n",
    "\n",
    "encoder = OneHotEncoder(handle_unknown='ignore')\n",
    "encoder.fit(X_train[['type_of_meal_plan','room_type_reserved','market_segment_type','season']])\n",
    "encoded_df = pd.DataFrame(encoder.transform(X_train[['type_of_meal_plan','room_type_reserved','market_segment_type','season']]).toarray(),\n",
    "                          columns=encoder.get_feature_names_out(['type_of_meal_plan','room_type_reserved','market_segment_type','season'])) \n",
    "X_train = pd.concat([X_train.drop(['type_of_meal_plan','room_type_reserved','market_segment_type','season'], axis=1).reset_index(drop=True),encoded_df],axis =1)\n",
    "\n",
    "X_train.columns\n",
    "\n",
    "\n",
    "                          "
   ]
  },
  {
   "cell_type": "code",
   "execution_count": 477,
   "id": "19419aed-4547-49f5-b2f8-0921e6695470",
   "metadata": {},
   "outputs": [
    {
     "data": {
      "text/html": [
       "<div>\n",
       "<style scoped>\n",
       "    .dataframe tbody tr th:only-of-type {\n",
       "        vertical-align: middle;\n",
       "    }\n",
       "\n",
       "    .dataframe tbody tr th {\n",
       "        vertical-align: top;\n",
       "    }\n",
       "\n",
       "    .dataframe thead th {\n",
       "        text-align: right;\n",
       "    }\n",
       "</style>\n",
       "<table border=\"1\" class=\"dataframe\">\n",
       "  <thead>\n",
       "    <tr style=\"text-align: right;\">\n",
       "      <th></th>\n",
       "      <th>no_of_adults</th>\n",
       "      <th>no_of_children</th>\n",
       "      <th>no_of_weekend_nights</th>\n",
       "      <th>no_of_week_nights</th>\n",
       "      <th>required_car_parking_space</th>\n",
       "      <th>lead_time</th>\n",
       "      <th>repeated_guest</th>\n",
       "      <th>no_of_previous_cancellations</th>\n",
       "      <th>no_of_previous_bookings_not_canceled</th>\n",
       "      <th>avg_price_per_room</th>\n",
       "      <th>...</th>\n",
       "      <th>room_type_reserved_room_type7</th>\n",
       "      <th>market_segment_type_aviation</th>\n",
       "      <th>market_segment_type_complementary</th>\n",
       "      <th>market_segment_type_corporate</th>\n",
       "      <th>market_segment_type_offline</th>\n",
       "      <th>market_segment_type_online</th>\n",
       "      <th>season_ Summer</th>\n",
       "      <th>season_Fall</th>\n",
       "      <th>season_Spring</th>\n",
       "      <th>season_Winter</th>\n",
       "    </tr>\n",
       "  </thead>\n",
       "  <tbody>\n",
       "    <tr>\n",
       "      <th>0</th>\n",
       "      <td>2</td>\n",
       "      <td>0</td>\n",
       "      <td>0</td>\n",
       "      <td>2</td>\n",
       "      <td>0</td>\n",
       "      <td>1</td>\n",
       "      <td>0</td>\n",
       "      <td>0</td>\n",
       "      <td>0</td>\n",
       "      <td>102.0</td>\n",
       "      <td>...</td>\n",
       "      <td>0.0</td>\n",
       "      <td>0.0</td>\n",
       "      <td>0.0</td>\n",
       "      <td>0.0</td>\n",
       "      <td>0.0</td>\n",
       "      <td>1.0</td>\n",
       "      <td>0.0</td>\n",
       "      <td>0.0</td>\n",
       "      <td>0.0</td>\n",
       "      <td>1.0</td>\n",
       "    </tr>\n",
       "    <tr>\n",
       "      <th>1</th>\n",
       "      <td>2</td>\n",
       "      <td>0</td>\n",
       "      <td>1</td>\n",
       "      <td>0</td>\n",
       "      <td>0</td>\n",
       "      <td>16</td>\n",
       "      <td>0</td>\n",
       "      <td>0</td>\n",
       "      <td>0</td>\n",
       "      <td>129.0</td>\n",
       "      <td>...</td>\n",
       "      <td>0.0</td>\n",
       "      <td>0.0</td>\n",
       "      <td>0.0</td>\n",
       "      <td>0.0</td>\n",
       "      <td>0.0</td>\n",
       "      <td>1.0</td>\n",
       "      <td>1.0</td>\n",
       "      <td>0.0</td>\n",
       "      <td>0.0</td>\n",
       "      <td>0.0</td>\n",
       "    </tr>\n",
       "    <tr>\n",
       "      <th>2</th>\n",
       "      <td>2</td>\n",
       "      <td>0</td>\n",
       "      <td>0</td>\n",
       "      <td>2</td>\n",
       "      <td>0</td>\n",
       "      <td>148</td>\n",
       "      <td>0</td>\n",
       "      <td>0</td>\n",
       "      <td>0</td>\n",
       "      <td>93.5</td>\n",
       "      <td>...</td>\n",
       "      <td>0.0</td>\n",
       "      <td>0.0</td>\n",
       "      <td>0.0</td>\n",
       "      <td>0.0</td>\n",
       "      <td>0.0</td>\n",
       "      <td>1.0</td>\n",
       "      <td>0.0</td>\n",
       "      <td>1.0</td>\n",
       "      <td>0.0</td>\n",
       "      <td>0.0</td>\n",
       "    </tr>\n",
       "    <tr>\n",
       "      <th>3</th>\n",
       "      <td>2</td>\n",
       "      <td>0</td>\n",
       "      <td>0</td>\n",
       "      <td>3</td>\n",
       "      <td>0</td>\n",
       "      <td>103</td>\n",
       "      <td>0</td>\n",
       "      <td>0</td>\n",
       "      <td>0</td>\n",
       "      <td>95.0</td>\n",
       "      <td>...</td>\n",
       "      <td>0.0</td>\n",
       "      <td>0.0</td>\n",
       "      <td>0.0</td>\n",
       "      <td>0.0</td>\n",
       "      <td>0.0</td>\n",
       "      <td>1.0</td>\n",
       "      <td>0.0</td>\n",
       "      <td>0.0</td>\n",
       "      <td>1.0</td>\n",
       "      <td>0.0</td>\n",
       "    </tr>\n",
       "    <tr>\n",
       "      <th>4</th>\n",
       "      <td>2</td>\n",
       "      <td>0</td>\n",
       "      <td>1</td>\n",
       "      <td>2</td>\n",
       "      <td>0</td>\n",
       "      <td>302</td>\n",
       "      <td>0</td>\n",
       "      <td>0</td>\n",
       "      <td>0</td>\n",
       "      <td>100.0</td>\n",
       "      <td>...</td>\n",
       "      <td>0.0</td>\n",
       "      <td>0.0</td>\n",
       "      <td>0.0</td>\n",
       "      <td>0.0</td>\n",
       "      <td>1.0</td>\n",
       "      <td>0.0</td>\n",
       "      <td>0.0</td>\n",
       "      <td>1.0</td>\n",
       "      <td>0.0</td>\n",
       "      <td>0.0</td>\n",
       "    </tr>\n",
       "  </tbody>\n",
       "</table>\n",
       "<p>5 rows × 31 columns</p>\n",
       "</div>"
      ],
      "text/plain": [
       "   no_of_adults  no_of_children  no_of_weekend_nights  no_of_week_nights  \\\n",
       "0             2               0                     0                  2   \n",
       "1             2               0                     1                  0   \n",
       "2             2               0                     0                  2   \n",
       "3             2               0                     0                  3   \n",
       "4             2               0                     1                  2   \n",
       "\n",
       "   required_car_parking_space  lead_time  repeated_guest  \\\n",
       "0                           0          1               0   \n",
       "1                           0         16               0   \n",
       "2                           0        148               0   \n",
       "3                           0        103               0   \n",
       "4                           0        302               0   \n",
       "\n",
       "   no_of_previous_cancellations  no_of_previous_bookings_not_canceled  \\\n",
       "0                             0                                     0   \n",
       "1                             0                                     0   \n",
       "2                             0                                     0   \n",
       "3                             0                                     0   \n",
       "4                             0                                     0   \n",
       "\n",
       "   avg_price_per_room  ...  room_type_reserved_room_type7  \\\n",
       "0               102.0  ...                            0.0   \n",
       "1               129.0  ...                            0.0   \n",
       "2                93.5  ...                            0.0   \n",
       "3                95.0  ...                            0.0   \n",
       "4               100.0  ...                            0.0   \n",
       "\n",
       "   market_segment_type_aviation  market_segment_type_complementary  \\\n",
       "0                           0.0                                0.0   \n",
       "1                           0.0                                0.0   \n",
       "2                           0.0                                0.0   \n",
       "3                           0.0                                0.0   \n",
       "4                           0.0                                0.0   \n",
       "\n",
       "   market_segment_type_corporate  market_segment_type_offline  \\\n",
       "0                            0.0                          0.0   \n",
       "1                            0.0                          0.0   \n",
       "2                            0.0                          0.0   \n",
       "3                            0.0                          0.0   \n",
       "4                            0.0                          1.0   \n",
       "\n",
       "   market_segment_type_online  season_ Summer  season_Fall  season_Spring  \\\n",
       "0                         1.0             0.0          0.0            0.0   \n",
       "1                         1.0             1.0          0.0            0.0   \n",
       "2                         1.0             0.0          1.0            0.0   \n",
       "3                         1.0             0.0          0.0            1.0   \n",
       "4                         0.0             0.0          1.0            0.0   \n",
       "\n",
       "   season_Winter  \n",
       "0            1.0  \n",
       "1            0.0  \n",
       "2            0.0  \n",
       "3            0.0  \n",
       "4            0.0  \n",
       "\n",
       "[5 rows x 31 columns]"
      ]
     },
     "execution_count": 477,
     "metadata": {},
     "output_type": "execute_result"
    }
   ],
   "source": [
    "X_train.head()"
   ]
  },
  {
   "cell_type": "code",
   "execution_count": 478,
   "id": "189605f8-e381-489e-ae76-4d053d2b19b8",
   "metadata": {},
   "outputs": [
    {
     "data": {
      "text/plain": [
       "no_of_adults                              int64\n",
       "no_of_children                            int64\n",
       "no_of_weekend_nights                      int64\n",
       "no_of_week_nights                         int64\n",
       "required_car_parking_space                int64\n",
       "lead_time                                 int64\n",
       "repeated_guest                            int64\n",
       "no_of_previous_cancellations              int64\n",
       "no_of_previous_bookings_not_canceled      int64\n",
       "avg_price_per_room                      float64\n",
       "no_of_special_requests                    int64\n",
       "type_of_meal_plan_meal_plan_1           float64\n",
       "type_of_meal_plan_meal_plan_2           float64\n",
       "type_of_meal_plan_meal_plan_3           float64\n",
       "type_of_meal_plan_not_selected          float64\n",
       "room_type_reserved_room_type1           float64\n",
       "room_type_reserved_room_type2           float64\n",
       "room_type_reserved_room_type3           float64\n",
       "room_type_reserved_room_type4           float64\n",
       "room_type_reserved_room_type5           float64\n",
       "room_type_reserved_room_type6           float64\n",
       "room_type_reserved_room_type7           float64\n",
       "market_segment_type_aviation            float64\n",
       "market_segment_type_complementary       float64\n",
       "market_segment_type_corporate           float64\n",
       "market_segment_type_offline             float64\n",
       "market_segment_type_online              float64\n",
       "season_ Summer                          float64\n",
       "season_Fall                             float64\n",
       "season_Spring                           float64\n",
       "season_Winter                           float64\n",
       "dtype: object"
      ]
     },
     "execution_count": 478,
     "metadata": {},
     "output_type": "execute_result"
    }
   ],
   "source": [
    "X_train.dtypes"
   ]
  },
  {
   "cell_type": "code",
   "execution_count": 479,
   "id": "51711907-9411-4e12-b37e-3206cf301794",
   "metadata": {},
   "outputs": [],
   "source": [
    "X_train.to_csv('X_train_encoded.csv', index=False)"
   ]
  },
  {
   "cell_type": "markdown",
   "id": "f59f9b6d-4ba8-459b-aa85-dd3db5d64455",
   "metadata": {},
   "source": [
    "**Scaling using scikit-learn.**"
   ]
  },
  {
   "cell_type": "code",
   "execution_count": 481,
   "id": "20c28d7f-7013-4636-b1df-b2403c27e7c8",
   "metadata": {},
   "outputs": [],
   "source": [
    "scaler = StandardScaler()\n",
    "scaler.fit(X_train)\n",
    "X_train_scaled = scaler.transform(X_train)\n",
    "X_train_scaled = pd.DataFrame(X_train_scaled, columns = X_train.columns)"
   ]
  },
  {
   "cell_type": "code",
   "execution_count": 482,
   "id": "c83bcada-faa3-4c00-bd65-b096036afdf8",
   "metadata": {},
   "outputs": [
    {
     "data": {
      "text/html": [
       "<div>\n",
       "<style scoped>\n",
       "    .dataframe tbody tr th:only-of-type {\n",
       "        vertical-align: middle;\n",
       "    }\n",
       "\n",
       "    .dataframe tbody tr th {\n",
       "        vertical-align: top;\n",
       "    }\n",
       "\n",
       "    .dataframe thead th {\n",
       "        text-align: right;\n",
       "    }\n",
       "</style>\n",
       "<table border=\"1\" class=\"dataframe\">\n",
       "  <thead>\n",
       "    <tr style=\"text-align: right;\">\n",
       "      <th></th>\n",
       "      <th>no_of_adults</th>\n",
       "      <th>no_of_children</th>\n",
       "      <th>no_of_weekend_nights</th>\n",
       "      <th>no_of_week_nights</th>\n",
       "      <th>required_car_parking_space</th>\n",
       "      <th>lead_time</th>\n",
       "      <th>repeated_guest</th>\n",
       "      <th>no_of_previous_cancellations</th>\n",
       "      <th>no_of_previous_bookings_not_canceled</th>\n",
       "      <th>avg_price_per_room</th>\n",
       "      <th>...</th>\n",
       "      <th>room_type_reserved_room_type7</th>\n",
       "      <th>market_segment_type_aviation</th>\n",
       "      <th>market_segment_type_complementary</th>\n",
       "      <th>market_segment_type_corporate</th>\n",
       "      <th>market_segment_type_offline</th>\n",
       "      <th>market_segment_type_online</th>\n",
       "      <th>season_ Summer</th>\n",
       "      <th>season_Fall</th>\n",
       "      <th>season_Spring</th>\n",
       "      <th>season_Winter</th>\n",
       "    </tr>\n",
       "  </thead>\n",
       "  <tbody>\n",
       "    <tr>\n",
       "      <th>0</th>\n",
       "      <td>0.302377</td>\n",
       "      <td>-0.262441</td>\n",
       "      <td>-0.938730</td>\n",
       "      <td>-0.141753</td>\n",
       "      <td>-0.180091</td>\n",
       "      <td>-0.979545</td>\n",
       "      <td>-0.164523</td>\n",
       "      <td>-0.063474</td>\n",
       "      <td>-0.092102</td>\n",
       "      <td>-0.031381</td>\n",
       "      <td>...</td>\n",
       "      <td>-0.065188</td>\n",
       "      <td>-0.058834</td>\n",
       "      <td>-0.112346</td>\n",
       "      <td>-0.239449</td>\n",
       "      <td>-0.638732</td>\n",
       "      <td>0.749841</td>\n",
       "      <td>-0.617086</td>\n",
       "      <td>-0.738724</td>\n",
       "      <td>-0.520164</td>\n",
       "      <td>2.306588</td>\n",
       "    </tr>\n",
       "    <tr>\n",
       "      <th>1</th>\n",
       "      <td>0.302377</td>\n",
       "      <td>-0.262441</td>\n",
       "      <td>0.212094</td>\n",
       "      <td>-1.562027</td>\n",
       "      <td>-0.180091</td>\n",
       "      <td>-0.805192</td>\n",
       "      <td>-0.164523</td>\n",
       "      <td>-0.063474</td>\n",
       "      <td>-0.092102</td>\n",
       "      <td>0.734369</td>\n",
       "      <td>...</td>\n",
       "      <td>-0.065188</td>\n",
       "      <td>-0.058834</td>\n",
       "      <td>-0.112346</td>\n",
       "      <td>-0.239449</td>\n",
       "      <td>-0.638732</td>\n",
       "      <td>0.749841</td>\n",
       "      <td>1.620520</td>\n",
       "      <td>-0.738724</td>\n",
       "      <td>-0.520164</td>\n",
       "      <td>-0.433541</td>\n",
       "    </tr>\n",
       "    <tr>\n",
       "      <th>2</th>\n",
       "      <td>0.302377</td>\n",
       "      <td>-0.262441</td>\n",
       "      <td>-0.938730</td>\n",
       "      <td>-0.141753</td>\n",
       "      <td>-0.180091</td>\n",
       "      <td>0.729113</td>\n",
       "      <td>-0.164523</td>\n",
       "      <td>-0.063474</td>\n",
       "      <td>-0.092102</td>\n",
       "      <td>-0.272450</td>\n",
       "      <td>...</td>\n",
       "      <td>-0.065188</td>\n",
       "      <td>-0.058834</td>\n",
       "      <td>-0.112346</td>\n",
       "      <td>-0.239449</td>\n",
       "      <td>-0.638732</td>\n",
       "      <td>0.749841</td>\n",
       "      <td>-0.617086</td>\n",
       "      <td>1.353686</td>\n",
       "      <td>-0.520164</td>\n",
       "      <td>-0.433541</td>\n",
       "    </tr>\n",
       "    <tr>\n",
       "      <th>3</th>\n",
       "      <td>0.302377</td>\n",
       "      <td>-0.262441</td>\n",
       "      <td>-0.938730</td>\n",
       "      <td>0.568384</td>\n",
       "      <td>-0.180091</td>\n",
       "      <td>0.206054</td>\n",
       "      <td>-0.164523</td>\n",
       "      <td>-0.063474</td>\n",
       "      <td>-0.092102</td>\n",
       "      <td>-0.229909</td>\n",
       "      <td>...</td>\n",
       "      <td>-0.065188</td>\n",
       "      <td>-0.058834</td>\n",
       "      <td>-0.112346</td>\n",
       "      <td>-0.239449</td>\n",
       "      <td>-0.638732</td>\n",
       "      <td>0.749841</td>\n",
       "      <td>-0.617086</td>\n",
       "      <td>-0.738724</td>\n",
       "      <td>1.922471</td>\n",
       "      <td>-0.433541</td>\n",
       "    </tr>\n",
       "    <tr>\n",
       "      <th>4</th>\n",
       "      <td>0.302377</td>\n",
       "      <td>-0.262441</td>\n",
       "      <td>0.212094</td>\n",
       "      <td>-0.141753</td>\n",
       "      <td>-0.180091</td>\n",
       "      <td>2.519136</td>\n",
       "      <td>-0.164523</td>\n",
       "      <td>-0.063474</td>\n",
       "      <td>-0.092102</td>\n",
       "      <td>-0.088103</td>\n",
       "      <td>...</td>\n",
       "      <td>-0.065188</td>\n",
       "      <td>-0.058834</td>\n",
       "      <td>-0.112346</td>\n",
       "      <td>-0.239449</td>\n",
       "      <td>1.565602</td>\n",
       "      <td>-1.333616</td>\n",
       "      <td>-0.617086</td>\n",
       "      <td>1.353686</td>\n",
       "      <td>-0.520164</td>\n",
       "      <td>-0.433541</td>\n",
       "    </tr>\n",
       "  </tbody>\n",
       "</table>\n",
       "<p>5 rows × 31 columns</p>\n",
       "</div>"
      ],
      "text/plain": [
       "   no_of_adults  no_of_children  no_of_weekend_nights  no_of_week_nights  \\\n",
       "0      0.302377       -0.262441             -0.938730          -0.141753   \n",
       "1      0.302377       -0.262441              0.212094          -1.562027   \n",
       "2      0.302377       -0.262441             -0.938730          -0.141753   \n",
       "3      0.302377       -0.262441             -0.938730           0.568384   \n",
       "4      0.302377       -0.262441              0.212094          -0.141753   \n",
       "\n",
       "   required_car_parking_space  lead_time  repeated_guest  \\\n",
       "0                   -0.180091  -0.979545       -0.164523   \n",
       "1                   -0.180091  -0.805192       -0.164523   \n",
       "2                   -0.180091   0.729113       -0.164523   \n",
       "3                   -0.180091   0.206054       -0.164523   \n",
       "4                   -0.180091   2.519136       -0.164523   \n",
       "\n",
       "   no_of_previous_cancellations  no_of_previous_bookings_not_canceled  \\\n",
       "0                     -0.063474                             -0.092102   \n",
       "1                     -0.063474                             -0.092102   \n",
       "2                     -0.063474                             -0.092102   \n",
       "3                     -0.063474                             -0.092102   \n",
       "4                     -0.063474                             -0.092102   \n",
       "\n",
       "   avg_price_per_room  ...  room_type_reserved_room_type7  \\\n",
       "0           -0.031381  ...                      -0.065188   \n",
       "1            0.734369  ...                      -0.065188   \n",
       "2           -0.272450  ...                      -0.065188   \n",
       "3           -0.229909  ...                      -0.065188   \n",
       "4           -0.088103  ...                      -0.065188   \n",
       "\n",
       "   market_segment_type_aviation  market_segment_type_complementary  \\\n",
       "0                     -0.058834                          -0.112346   \n",
       "1                     -0.058834                          -0.112346   \n",
       "2                     -0.058834                          -0.112346   \n",
       "3                     -0.058834                          -0.112346   \n",
       "4                     -0.058834                          -0.112346   \n",
       "\n",
       "   market_segment_type_corporate  market_segment_type_offline  \\\n",
       "0                      -0.239449                    -0.638732   \n",
       "1                      -0.239449                    -0.638732   \n",
       "2                      -0.239449                    -0.638732   \n",
       "3                      -0.239449                    -0.638732   \n",
       "4                      -0.239449                     1.565602   \n",
       "\n",
       "   market_segment_type_online  season_ Summer  season_Fall  season_Spring  \\\n",
       "0                    0.749841       -0.617086    -0.738724      -0.520164   \n",
       "1                    0.749841        1.620520    -0.738724      -0.520164   \n",
       "2                    0.749841       -0.617086     1.353686      -0.520164   \n",
       "3                    0.749841       -0.617086    -0.738724       1.922471   \n",
       "4                   -1.333616       -0.617086     1.353686      -0.520164   \n",
       "\n",
       "   season_Winter  \n",
       "0       2.306588  \n",
       "1      -0.433541  \n",
       "2      -0.433541  \n",
       "3      -0.433541  \n",
       "4      -0.433541  \n",
       "\n",
       "[5 rows x 31 columns]"
      ]
     },
     "execution_count": 482,
     "metadata": {},
     "output_type": "execute_result"
    }
   ],
   "source": [
    "X_train_scaled.head()"
   ]
  },
  {
   "cell_type": "markdown",
   "id": "d8465dbf-2c18-411e-8498-bf044a5ea0b9",
   "metadata": {},
   "source": [
    "**The training data has now been one-hot encoded and scaled, so it is ready to be converted into a Torch tensor.**"
   ]
  },
  {
   "cell_type": "code",
   "execution_count": 484,
   "id": "028b38b4-0732-4dc3-922f-794eae75076b",
   "metadata": {},
   "outputs": [],
   "source": [
    "X_train_tensor = torch.tensor(X_train_scaled.values)"
   ]
  },
  {
   "cell_type": "code",
   "execution_count": 485,
   "id": "8bff970a-0f77-4bcc-9b28-b0df488f00b3",
   "metadata": {},
   "outputs": [
    {
     "data": {
      "text/plain": [
       "tensor([[ 0.3024, -0.2624, -0.9387,  ..., -0.7387, -0.5202,  2.3066],\n",
       "        [ 0.3024, -0.2624,  0.2121,  ..., -0.7387, -0.5202, -0.4335],\n",
       "        [ 0.3024, -0.2624, -0.9387,  ...,  1.3537, -0.5202, -0.4335],\n",
       "        ...,\n",
       "        [ 0.3024, -0.2624,  1.3629,  ..., -0.7387, -0.5202, -0.4335],\n",
       "        [ 0.3024, -0.2624, -0.9387,  ..., -0.7387, -0.5202,  2.3066],\n",
       "        [ 2.2320, -0.2624, -0.9387,  ...,  1.3537, -0.5202, -0.4335]],\n",
       "       dtype=torch.float64)"
      ]
     },
     "execution_count": 485,
     "metadata": {},
     "output_type": "execute_result"
    }
   ],
   "source": [
    "X_train_tensor"
   ]
  },
  {
   "cell_type": "code",
   "execution_count": 486,
   "id": "bbde7feb-9a69-49ec-bd5d-75b358c56b2f",
   "metadata": {},
   "outputs": [
    {
     "data": {
      "text/plain": [
       "(2, torch.Size([21742, 31]))"
      ]
     },
     "execution_count": 486,
     "metadata": {},
     "output_type": "execute_result"
    }
   ],
   "source": [
    "X_train_tensor.dim(), X_train_tensor.size()"
   ]
  },
  {
   "cell_type": "markdown",
   "id": "c81eb092-e77f-4f66-9258-46a5799c1293",
   "metadata": {},
   "source": [
    "### Now we can apply the onehot encoder and standard scaler to test set. "
   ]
  },
  {
   "cell_type": "code",
   "execution_count": 488,
   "id": "9fb6baa8-7b47-4855-91bb-dbbf3537041e",
   "metadata": {},
   "outputs": [
    {
     "data": {
      "text/plain": [
       "Index(['no_of_adults', 'no_of_children', 'no_of_weekend_nights',\n",
       "       'no_of_week_nights', 'required_car_parking_space', 'lead_time',\n",
       "       'repeated_guest', 'no_of_previous_cancellations',\n",
       "       'no_of_previous_bookings_not_canceled', 'avg_price_per_room',\n",
       "       'no_of_special_requests', 'type_of_meal_plan_meal_plan_1',\n",
       "       'type_of_meal_plan_meal_plan_2', 'type_of_meal_plan_meal_plan_3',\n",
       "       'type_of_meal_plan_not_selected', 'room_type_reserved_room_type1',\n",
       "       'room_type_reserved_room_type2', 'room_type_reserved_room_type3',\n",
       "       'room_type_reserved_room_type4', 'room_type_reserved_room_type5',\n",
       "       'room_type_reserved_room_type6', 'room_type_reserved_room_type7',\n",
       "       'market_segment_type_aviation', 'market_segment_type_complementary',\n",
       "       'market_segment_type_corporate', 'market_segment_type_offline',\n",
       "       'market_segment_type_online', 'season_ Summer', 'season_Fall',\n",
       "       'season_Spring', 'season_Winter'],\n",
       "      dtype='object')"
      ]
     },
     "execution_count": 488,
     "metadata": {},
     "output_type": "execute_result"
    }
   ],
   "source": [
    "encoded_df = pd.DataFrame(encoder.transform(X_valid[['type_of_meal_plan','room_type_reserved','market_segment_type','season']]).toarray(),\n",
    "                          columns=encoder.get_feature_names_out(['type_of_meal_plan','room_type_reserved','market_segment_type','season'])) \n",
    "X_valid = pd.concat([X_valid.drop(['type_of_meal_plan','room_type_reserved','market_segment_type','season'], axis=1).reset_index(drop=True),encoded_df],axis =1)\n",
    "\n",
    "X_valid.columns"
   ]
  },
  {
   "cell_type": "code",
   "execution_count": 489,
   "id": "0eb21673-e7b3-4dec-80a9-4733b47c7a6a",
   "metadata": {},
   "outputs": [],
   "source": [
    "X_valid.to_csv('X_valid_encoded.csv', index=False)"
   ]
  },
  {
   "cell_type": "code",
   "execution_count": 490,
   "id": "92cfcb27-061c-4d2e-aa1e-c178642ca32b",
   "metadata": {},
   "outputs": [],
   "source": [
    "X_valid_scaled = scaler.transform(X_valid)\n",
    "X_valid_scaled = pd.DataFrame(X_valid_scaled, columns = X_valid.columns)"
   ]
  },
  {
   "cell_type": "code",
   "execution_count": 491,
   "id": "c0553853-7325-4ccc-8230-4a2da4907e3f",
   "metadata": {},
   "outputs": [
    {
     "data": {
      "text/html": [
       "<div>\n",
       "<style scoped>\n",
       "    .dataframe tbody tr th:only-of-type {\n",
       "        vertical-align: middle;\n",
       "    }\n",
       "\n",
       "    .dataframe tbody tr th {\n",
       "        vertical-align: top;\n",
       "    }\n",
       "\n",
       "    .dataframe thead th {\n",
       "        text-align: right;\n",
       "    }\n",
       "</style>\n",
       "<table border=\"1\" class=\"dataframe\">\n",
       "  <thead>\n",
       "    <tr style=\"text-align: right;\">\n",
       "      <th></th>\n",
       "      <th>no_of_adults</th>\n",
       "      <th>no_of_children</th>\n",
       "      <th>no_of_weekend_nights</th>\n",
       "      <th>no_of_week_nights</th>\n",
       "      <th>required_car_parking_space</th>\n",
       "      <th>lead_time</th>\n",
       "      <th>repeated_guest</th>\n",
       "      <th>no_of_previous_cancellations</th>\n",
       "      <th>no_of_previous_bookings_not_canceled</th>\n",
       "      <th>avg_price_per_room</th>\n",
       "      <th>...</th>\n",
       "      <th>room_type_reserved_room_type7</th>\n",
       "      <th>market_segment_type_aviation</th>\n",
       "      <th>market_segment_type_complementary</th>\n",
       "      <th>market_segment_type_corporate</th>\n",
       "      <th>market_segment_type_offline</th>\n",
       "      <th>market_segment_type_online</th>\n",
       "      <th>season_ Summer</th>\n",
       "      <th>season_Fall</th>\n",
       "      <th>season_Spring</th>\n",
       "      <th>season_Winter</th>\n",
       "    </tr>\n",
       "  </thead>\n",
       "  <tbody>\n",
       "    <tr>\n",
       "      <th>0</th>\n",
       "      <td>0.302377</td>\n",
       "      <td>4.747213</td>\n",
       "      <td>-0.938730</td>\n",
       "      <td>0.568384</td>\n",
       "      <td>-0.180091</td>\n",
       "      <td>-0.479734</td>\n",
       "      <td>-0.164523</td>\n",
       "      <td>-0.063474</td>\n",
       "      <td>-0.092102</td>\n",
       "      <td>2.972062</td>\n",
       "      <td>...</td>\n",
       "      <td>-0.065188</td>\n",
       "      <td>-0.058834</td>\n",
       "      <td>-0.112346</td>\n",
       "      <td>-0.239449</td>\n",
       "      <td>-0.638732</td>\n",
       "      <td>0.749841</td>\n",
       "      <td>-0.617086</td>\n",
       "      <td>1.353686</td>\n",
       "      <td>-0.520164</td>\n",
       "      <td>-0.433541</td>\n",
       "    </tr>\n",
       "    <tr>\n",
       "      <th>1</th>\n",
       "      <td>0.302377</td>\n",
       "      <td>-0.262441</td>\n",
       "      <td>0.212094</td>\n",
       "      <td>-0.141753</td>\n",
       "      <td>-0.180091</td>\n",
       "      <td>-0.224016</td>\n",
       "      <td>-0.164523</td>\n",
       "      <td>-0.063474</td>\n",
       "      <td>-0.092102</td>\n",
       "      <td>-0.797131</td>\n",
       "      <td>...</td>\n",
       "      <td>-0.065188</td>\n",
       "      <td>-0.058834</td>\n",
       "      <td>-0.112346</td>\n",
       "      <td>-0.239449</td>\n",
       "      <td>1.565602</td>\n",
       "      <td>-1.333616</td>\n",
       "      <td>-0.617086</td>\n",
       "      <td>1.353686</td>\n",
       "      <td>-0.520164</td>\n",
       "      <td>-0.433541</td>\n",
       "    </tr>\n",
       "    <tr>\n",
       "      <th>2</th>\n",
       "      <td>0.302377</td>\n",
       "      <td>-0.262441</td>\n",
       "      <td>1.362919</td>\n",
       "      <td>1.988658</td>\n",
       "      <td>-0.180091</td>\n",
       "      <td>1.984454</td>\n",
       "      <td>-0.164523</td>\n",
       "      <td>-0.063474</td>\n",
       "      <td>-0.092102</td>\n",
       "      <td>-0.565137</td>\n",
       "      <td>...</td>\n",
       "      <td>-0.065188</td>\n",
       "      <td>-0.058834</td>\n",
       "      <td>-0.112346</td>\n",
       "      <td>-0.239449</td>\n",
       "      <td>-0.638732</td>\n",
       "      <td>0.749841</td>\n",
       "      <td>-0.617086</td>\n",
       "      <td>1.353686</td>\n",
       "      <td>-0.520164</td>\n",
       "      <td>-0.433541</td>\n",
       "    </tr>\n",
       "    <tr>\n",
       "      <th>3</th>\n",
       "      <td>-1.627262</td>\n",
       "      <td>-0.262441</td>\n",
       "      <td>-0.938730</td>\n",
       "      <td>-0.141753</td>\n",
       "      <td>-0.180091</td>\n",
       "      <td>-0.921428</td>\n",
       "      <td>-0.164523</td>\n",
       "      <td>-0.063474</td>\n",
       "      <td>-0.092102</td>\n",
       "      <td>-0.797131</td>\n",
       "      <td>...</td>\n",
       "      <td>-0.065188</td>\n",
       "      <td>-0.058834</td>\n",
       "      <td>-0.112346</td>\n",
       "      <td>-0.239449</td>\n",
       "      <td>1.565602</td>\n",
       "      <td>-1.333616</td>\n",
       "      <td>-0.617086</td>\n",
       "      <td>1.353686</td>\n",
       "      <td>-0.520164</td>\n",
       "      <td>-0.433541</td>\n",
       "    </tr>\n",
       "    <tr>\n",
       "      <th>4</th>\n",
       "      <td>0.302377</td>\n",
       "      <td>-0.262441</td>\n",
       "      <td>1.362919</td>\n",
       "      <td>3.408933</td>\n",
       "      <td>-0.180091</td>\n",
       "      <td>0.240925</td>\n",
       "      <td>-0.164523</td>\n",
       "      <td>-0.063474</td>\n",
       "      <td>-0.092102</td>\n",
       "      <td>-0.754589</td>\n",
       "      <td>...</td>\n",
       "      <td>-0.065188</td>\n",
       "      <td>-0.058834</td>\n",
       "      <td>-0.112346</td>\n",
       "      <td>-0.239449</td>\n",
       "      <td>-0.638732</td>\n",
       "      <td>0.749841</td>\n",
       "      <td>1.620520</td>\n",
       "      <td>-0.738724</td>\n",
       "      <td>-0.520164</td>\n",
       "      <td>-0.433541</td>\n",
       "    </tr>\n",
       "  </tbody>\n",
       "</table>\n",
       "<p>5 rows × 31 columns</p>\n",
       "</div>"
      ],
      "text/plain": [
       "   no_of_adults  no_of_children  no_of_weekend_nights  no_of_week_nights  \\\n",
       "0      0.302377        4.747213             -0.938730           0.568384   \n",
       "1      0.302377       -0.262441              0.212094          -0.141753   \n",
       "2      0.302377       -0.262441              1.362919           1.988658   \n",
       "3     -1.627262       -0.262441             -0.938730          -0.141753   \n",
       "4      0.302377       -0.262441              1.362919           3.408933   \n",
       "\n",
       "   required_car_parking_space  lead_time  repeated_guest  \\\n",
       "0                   -0.180091  -0.479734       -0.164523   \n",
       "1                   -0.180091  -0.224016       -0.164523   \n",
       "2                   -0.180091   1.984454       -0.164523   \n",
       "3                   -0.180091  -0.921428       -0.164523   \n",
       "4                   -0.180091   0.240925       -0.164523   \n",
       "\n",
       "   no_of_previous_cancellations  no_of_previous_bookings_not_canceled  \\\n",
       "0                     -0.063474                             -0.092102   \n",
       "1                     -0.063474                             -0.092102   \n",
       "2                     -0.063474                             -0.092102   \n",
       "3                     -0.063474                             -0.092102   \n",
       "4                     -0.063474                             -0.092102   \n",
       "\n",
       "   avg_price_per_room  ...  room_type_reserved_room_type7  \\\n",
       "0            2.972062  ...                      -0.065188   \n",
       "1           -0.797131  ...                      -0.065188   \n",
       "2           -0.565137  ...                      -0.065188   \n",
       "3           -0.797131  ...                      -0.065188   \n",
       "4           -0.754589  ...                      -0.065188   \n",
       "\n",
       "   market_segment_type_aviation  market_segment_type_complementary  \\\n",
       "0                     -0.058834                          -0.112346   \n",
       "1                     -0.058834                          -0.112346   \n",
       "2                     -0.058834                          -0.112346   \n",
       "3                     -0.058834                          -0.112346   \n",
       "4                     -0.058834                          -0.112346   \n",
       "\n",
       "   market_segment_type_corporate  market_segment_type_offline  \\\n",
       "0                      -0.239449                    -0.638732   \n",
       "1                      -0.239449                     1.565602   \n",
       "2                      -0.239449                    -0.638732   \n",
       "3                      -0.239449                     1.565602   \n",
       "4                      -0.239449                    -0.638732   \n",
       "\n",
       "   market_segment_type_online  season_ Summer  season_Fall  season_Spring  \\\n",
       "0                    0.749841       -0.617086     1.353686      -0.520164   \n",
       "1                   -1.333616       -0.617086     1.353686      -0.520164   \n",
       "2                    0.749841       -0.617086     1.353686      -0.520164   \n",
       "3                   -1.333616       -0.617086     1.353686      -0.520164   \n",
       "4                    0.749841        1.620520    -0.738724      -0.520164   \n",
       "\n",
       "   season_Winter  \n",
       "0      -0.433541  \n",
       "1      -0.433541  \n",
       "2      -0.433541  \n",
       "3      -0.433541  \n",
       "4      -0.433541  \n",
       "\n",
       "[5 rows x 31 columns]"
      ]
     },
     "execution_count": 491,
     "metadata": {},
     "output_type": "execute_result"
    }
   ],
   "source": [
    "X_valid_scaled.head()"
   ]
  },
  {
   "cell_type": "code",
   "execution_count": 492,
   "id": "6bf29a78-2c52-490d-8787-d555269ce354",
   "metadata": {},
   "outputs": [
    {
     "data": {
      "text/plain": [
       "(tensor([[ 0.3024,  4.7472, -0.9387,  ...,  1.3537, -0.5202, -0.4335],\n",
       "         [ 0.3024, -0.2624,  0.2121,  ...,  1.3537, -0.5202, -0.4335],\n",
       "         [ 0.3024, -0.2624,  1.3629,  ...,  1.3537, -0.5202, -0.4335],\n",
       "         ...,\n",
       "         [ 0.3024, -0.2624,  1.3629,  ..., -0.7387,  1.9225, -0.4335],\n",
       "         [ 0.3024, -0.2624,  0.2121,  ..., -0.7387,  1.9225, -0.4335],\n",
       "         [ 0.3024, -0.2624,  1.3629,  ..., -0.7387, -0.5202, -0.4335]],\n",
       "        dtype=torch.float64),\n",
       " torch.Size([7248, 31]))"
      ]
     },
     "execution_count": 492,
     "metadata": {},
     "output_type": "execute_result"
    }
   ],
   "source": [
    "# Now let's turn it into a tensor \n",
    "\n",
    "X_valid_tensor = torch.tensor(X_valid_scaled.values)\n",
    "X_valid_tensor, X_valid_tensor.size()"
   ]
  },
  {
   "cell_type": "markdown",
   "id": "342d1f70-6abb-4991-b265-37cc9493a795",
   "metadata": {},
   "source": [
    "**_________________________________________________________________________________________________________________________________________**\n",
    "\n",
    "\n",
    "### How the model will be used and what did I do in this first part of the project "
   ]
  },
  {
   "cell_type": "markdown",
   "id": "b82dd193-be1f-4a1e-a3f6-2efb22498e76",
   "metadata": {},
   "source": [
    "First, I uploaded the data and analyzed it to gain a better understanding. I realized that the first column, `Booking_ID`, would not be useful for my model, so I planned to drop that column. Additionally, I noted that the target feature is `booking_status`, which I also intended to drop from `X_train` and `X_test`. I then created `Y_train` and `Y_test` containing only the target feature after addressing the `arrival_date`.\n",
    "\n",
    "Before proceeding with the one-hot encoding process, I needed to determine the types of features in the dataset. I checked the data using `data.info()` and noticed that there were object-type features, including `arrival_date`. This feature is crucial for my model and our future predictions, as we are trying to understand the cancellations of bookings, and the dates play an important role.\n",
    "\n",
    "To create a feature that represents the seasons, I first converted the object-type `arrival_date` to the `pd.datetime` type. Then, I extracted the seasons by defining a function called `get_season`, after which I dropped the `arrival_date` from the dataset.\n",
    "\n",
    "I also checked the number of unique values in the object features, as this would help estimate the number of columns after applying one-hot encoding. I then performed one-hot encoding on both `X_train` and `X_test`. Subsequently, I scaled the `X_train` and `X_test` datasets to prepare them for conversion into tensors. This will be necessary when I create my neural network in the coming weeks."
   ]
  },
  {
   "cell_type": "markdown",
   "id": "091f2029-644e-423a-9d5b-a5d988126a21",
   "metadata": {},
   "source": [
    "Our y_train and y_test are consist of `canceled` and `not_canceled` values. This is a `classification problem`. We need to turn these values into 0 and 1. **canceled = 1 and not_canceled = 0**"
   ]
  },
  {
   "cell_type": "code",
   "execution_count": 496,
   "id": "dfb62abd-91ad-4a88-9272-fd1a0204e484",
   "metadata": {},
   "outputs": [
    {
     "data": {
      "text/plain": [
       "(21742, 7248)"
      ]
     },
     "execution_count": 496,
     "metadata": {},
     "output_type": "execute_result"
    }
   ],
   "source": [
    "y_train.size, y_valid.size"
   ]
  },
  {
   "cell_type": "markdown",
   "id": "aaa77332-12c9-47fb-abef-814de6df7d18",
   "metadata": {},
   "source": [
    "**We can do this with label encoder from sklearn.preprocessing or we can basically map it.**"
   ]
  },
  {
   "cell_type": "code",
   "execution_count": 498,
   "id": "2f9aff42-38a5-4ca7-bc2e-5b2d56d17207",
   "metadata": {},
   "outputs": [],
   "source": [
    "label_encoder = LabelEncoder()\n",
    "\n",
    "y_train_encoded = label_encoder.fit_transform(y_train)\n",
    "y_valid_encoded = label_encoder.transform(y_valid)"
   ]
  },
  {
   "cell_type": "code",
   "execution_count": 499,
   "id": "02b1e170-7f8b-4355-8f17-c0a471c81eb8",
   "metadata": {},
   "outputs": [],
   "source": [
    "y_train_encoded = pd.DataFrame(y_train_encoded, index=y_train.index, columns = ['booking_status'])\n",
    "y_valid_encoded = pd.DataFrame(y_valid_encoded, index=y_valid.index, columns=['booking_status'])"
   ]
  },
  {
   "cell_type": "code",
   "execution_count": 500,
   "id": "53131695-d15e-499d-998d-2004a629e38a",
   "metadata": {},
   "outputs": [],
   "source": [
    "y_train_encoded.to_csv('y_train_encoded.csv', index = False)\n",
    "y_valid_encoded.to_csv('y_valid_encoded.csv', index = False)"
   ]
  },
  {
   "cell_type": "markdown",
   "id": "e55d3ca2-b4b9-465d-8908-4dcfa4cb431e",
   "metadata": {},
   "source": [
    "**Convert y_train_encoded, y_test_encoded to tensor before we feed them into neural network**"
   ]
  },
  {
   "cell_type": "code",
   "execution_count": 502,
   "id": "9d6508eb-f2b7-4e7c-a9f4-fa7c736b4e8c",
   "metadata": {},
   "outputs": [],
   "source": [
    "y_train_tensor = torch.tensor(y_train_encoded.values)\n",
    "y_valid_tensor = torch.tensor(y_valid_encoded.values)"
   ]
  },
  {
   "cell_type": "code",
   "execution_count": 503,
   "id": "20e2fe56-1e38-4393-9b09-ad8fe36f9bad",
   "metadata": {},
   "outputs": [
    {
     "data": {
      "text/plain": [
       "(tensor([[1],\n",
       "         [0],\n",
       "         [1],\n",
       "         ...,\n",
       "         [0],\n",
       "         [1],\n",
       "         [0]]),\n",
       " tensor([[1],\n",
       "         [0],\n",
       "         [0],\n",
       "         ...,\n",
       "         [1],\n",
       "         [1],\n",
       "         [0]]))"
      ]
     },
     "execution_count": 503,
     "metadata": {},
     "output_type": "execute_result"
    }
   ],
   "source": [
    "y_train_tensor, y_valid_tensor"
   ]
  },
  {
   "cell_type": "markdown",
   "id": "c717c3ae-94a8-4430-b5ef-0911980e50bc",
   "metadata": {},
   "source": [
    "**_________________________________________________________________________________________________________________________________________**\n",
    "\n",
    "## Now we can create our `neural network` and `training loop`"
   ]
  },
  {
   "cell_type": "code",
   "execution_count": 505,
   "id": "9195cd5f-ae58-46ad-ac5d-6bb4d7c2dbd9",
   "metadata": {},
   "outputs": [],
   "source": [
    "from torch import optim\n",
    "import torch.nn as nn"
   ]
  },
  {
   "cell_type": "code",
   "execution_count": 506,
   "id": "85124f50-8c40-4344-be8a-5a228e4048d6",
   "metadata": {},
   "outputs": [
    {
     "data": {
      "text/plain": [
       "31"
      ]
     },
     "execution_count": 506,
     "metadata": {},
     "output_type": "execute_result"
    }
   ],
   "source": [
    "input_dim = X_train.shape[1]\n",
    "input_dim"
   ]
  },
  {
   "cell_type": "markdown",
   "id": "3843e5c6-c373-44c3-9d0c-f92c962c1173",
   "metadata": {},
   "source": [
    "**Convert the tensors to the same type float32**"
   ]
  },
  {
   "cell_type": "code",
   "execution_count": 508,
   "id": "6987b201-04f6-48aa-af19-f7f685f87d16",
   "metadata": {},
   "outputs": [],
   "source": [
    "X_train_tensor = X_train_tensor.float()\n",
    "X_valid_tensor = X_valid_tensor.float()\n",
    "y_train_tensor = y_train_tensor.float()\n",
    "y_valid_tensor = y_valid_tensor.float()"
   ]
  },
  {
   "cell_type": "code",
   "execution_count": 509,
   "id": "749709b6-2d29-446d-8d1b-a75e186a3b70",
   "metadata": {},
   "outputs": [
    {
     "data": {
      "text/plain": [
       "Sequential(\n",
       "  (0): Linear(in_features=31, out_features=64, bias=True)\n",
       "  (1): ReLU()\n",
       "  (2): Linear(in_features=64, out_features=32, bias=True)\n",
       "  (3): ReLU()\n",
       "  (4): Linear(in_features=32, out_features=16, bias=True)\n",
       "  (5): ReLU()\n",
       "  (6): Linear(in_features=16, out_features=1, bias=True)\n",
       "  (7): Sigmoid()\n",
       ")"
      ]
     },
     "execution_count": 509,
     "metadata": {},
     "output_type": "execute_result"
    }
   ],
   "source": [
    "nn_seq_model = nn.Sequential(\n",
    "            nn.Linear(input_dim,64),\n",
    "            nn.ReLU(),\n",
    "            nn.Linear(64,32),\n",
    "            nn.ReLU(), \n",
    "            nn.Linear(32,16),\n",
    "            nn.ReLU(),\n",
    "            nn.Linear(16,1),\n",
    "            nn.Sigmoid()  ## Sigmoid activation function for binary classification\n",
    ")\n",
    "\n",
    "nn_seq_model"
   ]
  },
  {
   "cell_type": "code",
   "execution_count": 510,
   "id": "4888a467-e06a-4ade-b487-26e5250238d9",
   "metadata": {},
   "outputs": [],
   "source": [
    "def training_loop_nn(n_epochs, optimizer, model, loss_fn, X_train_tensor, X_valid_tensor, y_train_tensor, y_valid_tensor): \n",
    "    train_losses = []\n",
    "    valid_losses = []\n",
    "    \n",
    "    for epoch in range (1, n_epochs + 1): \n",
    "        X_train_pred = nn_seq_model(X_train_tensor)\n",
    "        loss_train = loss_fn(X_train_pred, y_train_tensor) \n",
    "\n",
    "        X_valid_pred = nn_seq_model(X_valid_tensor)\n",
    "        loss_valid = loss_fn(X_valid_pred, y_valid_tensor)\n",
    "\n",
    "        optimizer.zero_grad(),\n",
    "        loss_train.backward(),\n",
    "        optimizer.step()\n",
    "\n",
    "        train_losses.append(loss_train.item())\n",
    "        valid_losses.append(loss_valid.item())\n",
    "\n",
    "        if epoch == 1 or epoch % 1000 ==0: \n",
    "            print(f\"Epoch {epoch}, Training loss {loss_train.item() :.4f},\" \n",
    "                  f\" Validation loss {loss_valid.item():.4f}\")\n",
    "\n",
    "    return train_losses, valid_losses"
   ]
  },
  {
   "cell_type": "code",
   "execution_count": 511,
   "id": "5d48b111-b30e-4579-a1c2-1ff2975f22de",
   "metadata": {},
   "outputs": [
    {
     "data": {
      "text/plain": [
       "\u001b[0;31mSignature:\u001b[0m\n",
       "\u001b[0mtraining_loop_nn\u001b[0m\u001b[0;34m(\u001b[0m\u001b[0;34m\u001b[0m\n",
       "\u001b[0;34m\u001b[0m    \u001b[0mn_epochs\u001b[0m\u001b[0;34m,\u001b[0m\u001b[0;34m\u001b[0m\n",
       "\u001b[0;34m\u001b[0m    \u001b[0moptimizer\u001b[0m\u001b[0;34m,\u001b[0m\u001b[0;34m\u001b[0m\n",
       "\u001b[0;34m\u001b[0m    \u001b[0mmodel\u001b[0m\u001b[0;34m,\u001b[0m\u001b[0;34m\u001b[0m\n",
       "\u001b[0;34m\u001b[0m    \u001b[0mloss_fn\u001b[0m\u001b[0;34m,\u001b[0m\u001b[0;34m\u001b[0m\n",
       "\u001b[0;34m\u001b[0m    \u001b[0mX_train_tensor\u001b[0m\u001b[0;34m,\u001b[0m\u001b[0;34m\u001b[0m\n",
       "\u001b[0;34m\u001b[0m    \u001b[0mX_valid_tensor\u001b[0m\u001b[0;34m,\u001b[0m\u001b[0;34m\u001b[0m\n",
       "\u001b[0;34m\u001b[0m    \u001b[0my_train_tensor\u001b[0m\u001b[0;34m,\u001b[0m\u001b[0;34m\u001b[0m\n",
       "\u001b[0;34m\u001b[0m    \u001b[0my_valid_tensor\u001b[0m\u001b[0;34m,\u001b[0m\u001b[0;34m\u001b[0m\n",
       "\u001b[0;34m\u001b[0m\u001b[0;34m)\u001b[0m\u001b[0;34m\u001b[0m\u001b[0;34m\u001b[0m\u001b[0m\n",
       "\u001b[0;31mDocstring:\u001b[0m <no docstring>\n",
       "\u001b[0;31mFile:\u001b[0m      /var/folders/yn/lfh7s3f52q18zdwkxgbxg58r0000gn/T/ipykernel_13003/2674827713.py\n",
       "\u001b[0;31mType:\u001b[0m      function"
      ]
     },
     "metadata": {},
     "output_type": "display_data"
    }
   ],
   "source": [
    "training_loop_nn?"
   ]
  },
  {
   "cell_type": "code",
   "execution_count": 512,
   "id": "d9b99daf-1946-4ab9-9e48-7d62e9c348a4",
   "metadata": {},
   "outputs": [
    {
     "name": "stdout",
     "output_type": "stream",
     "text": [
      "Epoch 1, Training loss 0.6720, Validation loss 0.6728\n",
      "Epoch 1000, Training loss 0.5927, Validation loss 0.5961\n",
      "Epoch 2000, Training loss 0.4410, Validation loss 0.4459\n",
      "Epoch 3000, Training loss 0.4092, Validation loss 0.4158\n",
      "Epoch 4000, Training loss 0.3988, Validation loss 0.4052\n",
      "Epoch 5000, Training loss 0.3908, Validation loss 0.3974\n",
      "Epoch 6000, Training loss 0.3842, Validation loss 0.3912\n",
      "Epoch 7000, Training loss 0.3785, Validation loss 0.3864\n",
      "Epoch 8000, Training loss 0.3738, Validation loss 0.3828\n",
      "Epoch 9000, Training loss 0.3697, Validation loss 0.3801\n",
      "Epoch 10000, Training loss 0.3662, Validation loss 0.3778\n",
      "\n"
     ]
    }
   ],
   "source": [
    "optimizer = optim.SGD(nn_seq_model.parameters(), lr = 1e-2)\n",
    "\n",
    "train_losses, valid_losses = training_loop_nn(\n",
    "    n_epochs= 10000, \n",
    "    optimizer= optimizer, \n",
    "    model= nn_seq_model, \n",
    "    loss_fn= nn.BCELoss(),\n",
    "    X_train_tensor= X_train_tensor, \n",
    "    X_valid_tensor= X_valid_tensor, \n",
    "    y_train_tensor= y_train_tensor, \n",
    "    y_valid_tensor= y_valid_tensor\n",
    ")\n",
    "\n",
    "print()"
   ]
  },
  {
   "cell_type": "code",
   "execution_count": 513,
   "id": "b96c8f7a-2f53-4a50-88bf-3f7d0c0cfda5",
   "metadata": {},
   "outputs": [
    {
     "data": {
      "image/png": "[encoded data removed]",
      "text/plain": [
       "<Figure size 1000x600 with 1 Axes>"
      ]
     },
     "metadata": {},
     "output_type": "display_data"
    }
   ],
   "source": [
    "plt.figure(figsize=(10, 6))\n",
    "plt.plot(train_losses, label = \"Training Loss\", color = 'blue')\n",
    "plt.plot(valid_losses, label = \"Validation Loss\", color = 'red')\n",
    "plt.xlabel(\"Epochs\")\n",
    "plt.ylabel(\"Loss\")\n",
    "plt.title(\"Training and Validation Loss Over Time\")\n",
    "plt.legend()\n",
    "plt.grid()\n",
    "plt.show()"
   ]
  },
  {
   "cell_type": "markdown",
   "id": "397c3880-56a2-47e1-b4d1-8ccca2abd54d",
   "metadata": {},
   "source": [
    "**_________________________________________________________________________________________________________________________________________**\n",
    "\n",
    "\n",
    "## **Lets check the `Confusion Matrix` of our model, to see the model's accuracy**\n",
    "\n",
    "We check confusion matrix because we have binary classification type of data, our target value is canceled or not_canceled"
   ]
  },
  {
   "cell_type": "code",
   "execution_count": 515,
   "id": "30e67362-bcd9-43ba-a6cb-a3196306d56b",
   "metadata": {},
   "outputs": [
    {
     "data": {
      "text/plain": [
       "(21742, 21742)"
      ]
     },
     "execution_count": 515,
     "metadata": {},
     "output_type": "execute_result"
    }
   ],
   "source": [
    "len(X_train), len(y_train)"
   ]
  },
  {
   "cell_type": "markdown",
   "id": "a82a09f1-a3fe-4263-8b6e-46f2116d86aa",
   "metadata": {},
   "source": [
    "**How to Compute the Confusion Matrix in PyTorch: We can use sklearn.metrics.confusion_matrix to generate it.**\n",
    "\n",
    "Steps:\n",
    "1) Convert `X_valid_tensor` into model predictions.\n",
    "2) Apply a threshold (e.g., 0.5) to classify as 0 or 1.\n",
    "3) Compare predictions with y_valid_tensor.\n",
    "4) Compute the confusion matrix."
   ]
  },
  {
   "cell_type": "code",
   "execution_count": 517,
   "id": "bd7db1c4-ec10-4977-a047-661ae47e253e",
   "metadata": {},
   "outputs": [],
   "source": [
    "from sklearn.metrics import confusion_matrix"
   ]
  },
  {
   "cell_type": "code",
   "execution_count": 518,
   "id": "748a06bf-2999-4dd3-9885-9f7ae9836dd9",
   "metadata": {},
   "outputs": [],
   "source": [
    "# Get Model Predictions. \n",
    "# We use the validation data instead of training because the model already has seen the training data and it will perform \n",
    "# so much better on training data since it is trained by that data. Validation data is not seen by the model, and its accuracy rates will \n",
    "# tell us more about the models performance. \n",
    "\n",
    "with torch.no_grad():   \n",
    "    X_valid_pred = nn_seq_model(X_valid_tensor) # get raw outputs\n",
    "    y_valid_pred = (X_valid_pred>=0.5).float() # convert it to 0 or 1"
   ]
  },
  {
   "cell_type": "code",
   "execution_count": 519,
   "id": "086fe17f-92c3-4502-bf6e-593d582ec622",
   "metadata": {},
   "outputs": [],
   "source": [
    "# Compute Confusion Matrix\n",
    "\n",
    "cm = confusion_matrix(y_valid_pred.numpy(), y_valid_tensor.numpy())"
   ]
  },
  {
   "cell_type": "code",
   "execution_count": 520,
   "id": "84fd2eac-2d09-4eb0-9cf9-54c2de391192",
   "metadata": {},
   "outputs": [
    {
     "name": "stdout",
     "output_type": "stream",
     "text": [
      "[[1644  436]\n",
      " [ 757 4411]]\n"
     ]
    }
   ],
   "source": [
    "print(cm)"
   ]
  },
  {
   "cell_type": "markdown",
   "id": "88cecdd9-487c-460e-9169-ddc7583647bb",
   "metadata": {},
   "source": [
    "\n",
    "### Lets plot a heatmap for confusion matrix using seaborn"
   ]
  },
  {
   "cell_type": "code",
   "execution_count": 522,
   "id": "bff99b18-5510-4ee6-9f03-9c3bec559094",
   "metadata": {},
   "outputs": [],
   "source": [
    "import seaborn as sns"
   ]
  },
  {
   "cell_type": "code",
   "execution_count": 523,
   "id": "92d62f90-734f-4fae-ab91-204efe9a7033",
   "metadata": {},
   "outputs": [
    {
     "data": {
      "image/png": "[encoded data removed]",
      "text/plain": [
       "<Figure size 600x400 with 2 Axes>"
      ]
     },
     "metadata": {},
     "output_type": "display_data"
    }
   ],
   "source": [
    "class_labels = ['Not Canceled', 'Canceled']\n",
    "\n",
    "plt.figure(figsize=(6,4))\n",
    "sns.heatmap(cm, annot=True, fmt='d', cmap='Blues' ,xticklabels=class_labels, yticklabels=class_labels, cbar=True,annot_kws={\"size\": 14})\n",
    "\n",
    "# Labels & title\n",
    "plt.xlabel(\"Predicted Label\")\n",
    "plt.ylabel(\"True Label\")\n",
    "plt.title(\"Confusion Matrix Heatmap\")\n",
    "plt.show()"
   ]
  },
  {
   "cell_type": "code",
   "execution_count": 524,
   "id": "1bc46a9e-8fb0-4959-b495-39f9c3c0a6c4",
   "metadata": {},
   "outputs": [
    {
     "name": "stdout",
     "output_type": "stream",
     "text": [
      "Confusion Matrix:\n",
      " [[1644  436]\n",
      " [ 757 4411]]\n"
     ]
    }
   ],
   "source": [
    "print(\"Confusion Matrix:\\n\", cm)"
   ]
  },
  {
   "cell_type": "code",
   "execution_count": 525,
   "id": "95e05e93-3fb0-4754-951b-e0b889c72032",
   "metadata": {},
   "outputs": [
    {
     "name": "stdout",
     "output_type": "stream",
     "text": [
      "[[False False]\n",
      " [False False]]\n"
     ]
    }
   ],
   "source": [
    "# TROUBLESHOOT (Why the bottom two sections have no values in)\n",
    "\n",
    "print(np.isnan(cm))"
   ]
  },
  {
   "cell_type": "markdown",
   "id": "330fb614-2deb-4b2f-9e43-c99590a6513f",
   "metadata": {},
   "source": [
    "### Calculate the **`Accuracy`, `precision score`, `recall(sensitivity)`** and **`F1 Score`**"
   ]
  },
  {
   "cell_type": "code",
   "execution_count": 527,
   "id": "ab80fd73-7f56-4cb8-acd3-92d36cbfe208",
   "metadata": {},
   "outputs": [
    {
     "data": {
      "text/html": [
       "<div>\n",
       "<style scoped>\n",
       "    .dataframe tbody tr th:only-of-type {\n",
       "        vertical-align: middle;\n",
       "    }\n",
       "\n",
       "    .dataframe tbody tr th {\n",
       "        vertical-align: top;\n",
       "    }\n",
       "\n",
       "    .dataframe thead th {\n",
       "        text-align: right;\n",
       "    }\n",
       "</style>\n",
       "<table border=\"1\" class=\"dataframe\">\n",
       "  <thead>\n",
       "    <tr style=\"text-align: right;\">\n",
       "      <th></th>\n",
       "      <th>Model</th>\n",
       "      <th>Accuracy</th>\n",
       "      <th>Precision Score</th>\n",
       "      <th>Sensitivity</th>\n",
       "      <th>F1 Score</th>\n",
       "    </tr>\n",
       "  </thead>\n",
       "  <tbody>\n",
       "    <tr>\n",
       "      <th>0</th>\n",
       "      <td>Neural Network</td>\n",
       "      <td>0.835403</td>\n",
       "      <td>0.853522</td>\n",
       "      <td>0.910047</td>\n",
       "      <td>0.880879</td>\n",
       "    </tr>\n",
       "  </tbody>\n",
       "</table>\n",
       "</div>"
      ],
      "text/plain": [
       "            Model  Accuracy Precision Score Sensitivity  F1 Score\n",
       "0  Neural Network  0.835403        0.853522    0.910047  0.880879"
      ]
     },
     "execution_count": 527,
     "metadata": {},
     "output_type": "execute_result"
    }
   ],
   "source": [
    "from sklearn.metrics import precision_score, recall_score, f1_score, accuracy_score\n",
    "\n",
    "accuracy = accuracy_score(y_valid_tensor, y_valid_pred)\n",
    "precision = precision_score(y_valid_tensor, y_valid_pred)\n",
    "recall = recall_score(y_valid_tensor, y_valid_pred)\n",
    "f1 = f1_score(y_valid_tensor, y_valid_pred)\n",
    "\n",
    "con_matrix_results_df = pd.DataFrame(['Neural Network',accuracy, precision, recall, f1]).transpose()\n",
    "con_matrix_results_df.columns= ['Model','Accuracy', 'Precision Score', 'Sensitivity', 'F1 Score']\n",
    "con_matrix_results_df\n",
    "\n",
    "# Accuracy Score: This means that the model correctly predicted 83.36% of the total instances\n",
    "# Precision Score: refers to how many of the predicted \"canceled\" instances were actually canceled.\n",
    "# Sensitivity (or recall):  measures the proportion of actual \"canceled\" bookings that the model correctly identifies.\n",
    "# F1 Score: The F1 Score is the harmonic mean of precision and recall, providing a balance between them."
   ]
  },
  {
   "cell_type": "markdown",
   "id": "10ef8f30-f573-4b5c-bfb1-758332440a52",
   "metadata": {},
   "source": [
    "## Calculate the **AUC** and plot **ROC curve.** "
   ]
  },
  {
   "cell_type": "code",
   "execution_count": 529,
   "id": "daac3f79-dce2-46cf-a331-39cf911864e2",
   "metadata": {},
   "outputs": [],
   "source": [
    "from sklearn.metrics import roc_curve, auc"
   ]
  },
  {
   "cell_type": "code",
   "execution_count": 530,
   "id": "cd22035f-a11c-4db9-9179-40d37de85d77",
   "metadata": {},
   "outputs": [],
   "source": [
    "# Get the predicted probabilities (from the output of your model)\n",
    "\n",
    "with torch.no_grad():\n",
    "    X_valid_pred = nn_seq_model(X_valid_tensor)\n",
    "    y_valid_pred = X_valid_pred.detach().numpy()"
   ]
  },
  {
   "cell_type": "code",
   "execution_count": 531,
   "id": "33b6025c-1f29-4562-adad-e40ba34afdbf",
   "metadata": {},
   "outputs": [],
   "source": [
    "# Get the true values from y_valid_tensor \n",
    "\n",
    "y_valid_true = y_valid_tensor.detach().numpy()"
   ]
  },
  {
   "cell_type": "code",
   "execution_count": 532,
   "id": "d19f6914-3d07-42f8-b533-8d2aa7a0beee",
   "metadata": {},
   "outputs": [],
   "source": [
    "# Calculate the ROC curve\n",
    "fpr, tpr, thresholds = roc_curve(y_valid_true, y_valid_pred)"
   ]
  },
  {
   "cell_type": "code",
   "execution_count": 533,
   "id": "73952152-dd41-4af0-be73-e33702f938d8",
   "metadata": {},
   "outputs": [
    {
     "data": {
      "text/html": [
       "<div>\n",
       "<style scoped>\n",
       "    .dataframe tbody tr th:only-of-type {\n",
       "        vertical-align: middle;\n",
       "    }\n",
       "\n",
       "    .dataframe tbody tr th {\n",
       "        vertical-align: top;\n",
       "    }\n",
       "\n",
       "    .dataframe thead th {\n",
       "        text-align: right;\n",
       "    }\n",
       "</style>\n",
       "<table border=\"1\" class=\"dataframe\">\n",
       "  <thead>\n",
       "    <tr style=\"text-align: right;\">\n",
       "      <th></th>\n",
       "      <th>Threshold</th>\n",
       "      <th>FPR</th>\n",
       "      <th>TPR</th>\n",
       "    </tr>\n",
       "  </thead>\n",
       "  <tbody>\n",
       "    <tr>\n",
       "      <th>0</th>\n",
       "      <td>2.000000</td>\n",
       "      <td>0.000000</td>\n",
       "      <td>0.000000</td>\n",
       "    </tr>\n",
       "    <tr>\n",
       "      <th>1</th>\n",
       "      <td>1.000000</td>\n",
       "      <td>0.000000</td>\n",
       "      <td>0.001238</td>\n",
       "    </tr>\n",
       "    <tr>\n",
       "      <th>2</th>\n",
       "      <td>1.000000</td>\n",
       "      <td>0.000000</td>\n",
       "      <td>0.001444</td>\n",
       "    </tr>\n",
       "    <tr>\n",
       "      <th>3</th>\n",
       "      <td>1.000000</td>\n",
       "      <td>0.000000</td>\n",
       "      <td>0.002269</td>\n",
       "    </tr>\n",
       "    <tr>\n",
       "      <th>4</th>\n",
       "      <td>0.999999</td>\n",
       "      <td>0.000000</td>\n",
       "      <td>0.003095</td>\n",
       "    </tr>\n",
       "    <tr>\n",
       "      <th>...</th>\n",
       "      <td>...</td>\n",
       "      <td>...</td>\n",
       "      <td>...</td>\n",
       "    </tr>\n",
       "    <tr>\n",
       "      <th>2209</th>\n",
       "      <td>0.009076</td>\n",
       "      <td>0.995419</td>\n",
       "      <td>1.000000</td>\n",
       "    </tr>\n",
       "    <tr>\n",
       "      <th>2210</th>\n",
       "      <td>0.008739</td>\n",
       "      <td>0.997085</td>\n",
       "      <td>1.000000</td>\n",
       "    </tr>\n",
       "    <tr>\n",
       "      <th>2211</th>\n",
       "      <td>0.005387</td>\n",
       "      <td>0.998751</td>\n",
       "      <td>1.000000</td>\n",
       "    </tr>\n",
       "    <tr>\n",
       "      <th>2212</th>\n",
       "      <td>0.004744</td>\n",
       "      <td>0.999584</td>\n",
       "      <td>1.000000</td>\n",
       "    </tr>\n",
       "    <tr>\n",
       "      <th>2213</th>\n",
       "      <td>0.003654</td>\n",
       "      <td>1.000000</td>\n",
       "      <td>1.000000</td>\n",
       "    </tr>\n",
       "  </tbody>\n",
       "</table>\n",
       "<p>2214 rows × 3 columns</p>\n",
       "</div>"
      ],
      "text/plain": [
       "      Threshold       FPR       TPR\n",
       "0      2.000000  0.000000  0.000000\n",
       "1      1.000000  0.000000  0.001238\n",
       "2      1.000000  0.000000  0.001444\n",
       "3      1.000000  0.000000  0.002269\n",
       "4      0.999999  0.000000  0.003095\n",
       "...         ...       ...       ...\n",
       "2209   0.009076  0.995419  1.000000\n",
       "2210   0.008739  0.997085  1.000000\n",
       "2211   0.005387  0.998751  1.000000\n",
       "2212   0.004744  0.999584  1.000000\n",
       "2213   0.003654  1.000000  1.000000\n",
       "\n",
       "[2214 rows x 3 columns]"
      ]
     },
     "execution_count": 533,
     "metadata": {},
     "output_type": "execute_result"
    }
   ],
   "source": [
    "roc_data = pd.DataFrame({\"Threshold\": thresholds, \"FPR\": fpr, \"TPR\": tpr})\n",
    "roc_data # View first few rows"
   ]
  },
  {
   "cell_type": "code",
   "execution_count": 534,
   "id": "b2bd30c3-466d-4ba9-acfc-6ee2320d3471",
   "metadata": {},
   "outputs": [
    {
     "data": {
      "text/plain": [
       "0.8939006312874072"
      ]
     },
     "execution_count": 534,
     "metadata": {},
     "output_type": "execute_result"
    }
   ],
   "source": [
    "# Calculate AUC Score \n",
    "\n",
    "auc_score = auc(fpr, tpr)\n",
    "auc_score"
   ]
  },
  {
   "cell_type": "code",
   "execution_count": 535,
   "id": "712de3ac-3229-4b3e-9883-53b468f25752",
   "metadata": {},
   "outputs": [
    {
     "data": {
      "text/html": [
       "<div>\n",
       "<style scoped>\n",
       "    .dataframe tbody tr th:only-of-type {\n",
       "        vertical-align: middle;\n",
       "    }\n",
       "\n",
       "    .dataframe tbody tr th {\n",
       "        vertical-align: top;\n",
       "    }\n",
       "\n",
       "    .dataframe thead th {\n",
       "        text-align: right;\n",
       "    }\n",
       "</style>\n",
       "<table border=\"1\" class=\"dataframe\">\n",
       "  <thead>\n",
       "    <tr style=\"text-align: right;\">\n",
       "      <th></th>\n",
       "      <th>Model</th>\n",
       "      <th>Accuracy</th>\n",
       "      <th>Precision Score</th>\n",
       "      <th>Sensitivity</th>\n",
       "      <th>F1 Score</th>\n",
       "      <th>AUC</th>\n",
       "    </tr>\n",
       "  </thead>\n",
       "  <tbody>\n",
       "    <tr>\n",
       "      <th>0</th>\n",
       "      <td>Neural Network</td>\n",
       "      <td>0.835403</td>\n",
       "      <td>0.853522</td>\n",
       "      <td>0.910047</td>\n",
       "      <td>0.880879</td>\n",
       "      <td>0.893901</td>\n",
       "    </tr>\n",
       "  </tbody>\n",
       "</table>\n",
       "</div>"
      ],
      "text/plain": [
       "            Model  Accuracy Precision Score Sensitivity  F1 Score       AUC\n",
       "0  Neural Network  0.835403        0.853522    0.910047  0.880879  0.893901"
      ]
     },
     "execution_count": 535,
     "metadata": {},
     "output_type": "execute_result"
    }
   ],
   "source": [
    "# Let's add this AUC score to the con matrix results data frame\n",
    "\n",
    "con_matrix_results_df['AUC'] = auc_score\n",
    "con_matrix_results_df"
   ]
  },
  {
   "cell_type": "code",
   "execution_count": 536,
   "id": "1bcae8b4-c4a7-429c-81d7-383fb4286239",
   "metadata": {},
   "outputs": [
    {
     "data": {
      "image/png": "[encoded data removed]",
      "text/plain": [
       "<Figure size 800x600 with 1 Axes>"
      ]
     },
     "metadata": {},
     "output_type": "display_data"
    }
   ],
   "source": [
    "# Plot the ROC curve\n",
    "plt.figure(figsize=(8, 6))\n",
    "plt.plot(fpr, tpr, color='blue', label=f'ROC curve (AUC = {auc_score:.4f})')\n",
    "plt.plot([0, 1], [0, 1], color='gray', linestyle='--')  # Diagonal line (no skill)\n",
    "plt.xlabel('False Positive Rate (FPR)')\n",
    "plt.ylabel('True Positive Rate (TPR)')\n",
    "plt.title('Receiver Operating Characteristic (ROC) Curve')\n",
    "plt.legend(loc='lower right')\n",
    "plt.show()"
   ]
  },
  {
   "cell_type": "markdown",
   "id": "8d2c6fef-5e25-4290-8a0e-5c547dbc65d7",
   "metadata": {},
   "source": [
    "**_________________________________________________________________________________________________________________________________________**\n",
    "\n",
    "## **Nows let s think about how we can improve our model?**"
   ]
  },
  {
   "cell_type": "markdown",
   "id": "1495fdb9-2cc4-40d3-89d4-e9731f27ef3d",
   "metadata": {},
   "source": [
    "### **`check the correlation in X datasets to`** (X is consist of the features, there is no target feature)"
   ]
  },
  {
   "cell_type": "code",
   "execution_count": 539,
   "id": "5a9b5e9f-89ba-4735-8f48-f69a58c1e0ca",
   "metadata": {},
   "outputs": [
    {
     "data": {
      "text/plain": [
       "no_of_adults                              int64\n",
       "no_of_children                            int64\n",
       "no_of_weekend_nights                      int64\n",
       "no_of_week_nights                         int64\n",
       "type_of_meal_plan                        object\n",
       "required_car_parking_space                int64\n",
       "room_type_reserved                       object\n",
       "lead_time                                 int64\n",
       "market_segment_type                      object\n",
       "repeated_guest                            int64\n",
       "no_of_previous_cancellations              int64\n",
       "no_of_previous_bookings_not_canceled      int64\n",
       "avg_price_per_room                      float64\n",
       "no_of_special_requests                    int64\n",
       "season                                   object\n",
       "dtype: object"
      ]
     },
     "execution_count": 539,
     "metadata": {},
     "output_type": "execute_result"
    }
   ],
   "source": [
    "X.dtypes # (We have objects in X so we can't do correlation in categorical values) \n",
    "\n",
    "# We already converted the X to one hot encoded, so we can use X_train since it is one hot encoded"
   ]
  },
  {
   "cell_type": "code",
   "execution_count": 540,
   "id": "48987dc4-dcd5-49ef-9599-f73dc66b500c",
   "metadata": {},
   "outputs": [
    {
     "data": {
      "text/plain": [
       "no_of_adults                              int64\n",
       "no_of_children                            int64\n",
       "no_of_weekend_nights                      int64\n",
       "no_of_week_nights                         int64\n",
       "required_car_parking_space                int64\n",
       "lead_time                                 int64\n",
       "repeated_guest                            int64\n",
       "no_of_previous_cancellations              int64\n",
       "no_of_previous_bookings_not_canceled      int64\n",
       "avg_price_per_room                      float64\n",
       "no_of_special_requests                    int64\n",
       "type_of_meal_plan_meal_plan_1           float64\n",
       "type_of_meal_plan_meal_plan_2           float64\n",
       "type_of_meal_plan_meal_plan_3           float64\n",
       "type_of_meal_plan_not_selected          float64\n",
       "room_type_reserved_room_type1           float64\n",
       "room_type_reserved_room_type2           float64\n",
       "room_type_reserved_room_type3           float64\n",
       "room_type_reserved_room_type4           float64\n",
       "room_type_reserved_room_type5           float64\n",
       "room_type_reserved_room_type6           float64\n",
       "room_type_reserved_room_type7           float64\n",
       "market_segment_type_aviation            float64\n",
       "market_segment_type_complementary       float64\n",
       "market_segment_type_corporate           float64\n",
       "market_segment_type_offline             float64\n",
       "market_segment_type_online              float64\n",
       "season_ Summer                          float64\n",
       "season_Fall                             float64\n",
       "season_Spring                           float64\n",
       "season_Winter                           float64\n",
       "dtype: object"
      ]
     },
     "execution_count": 540,
     "metadata": {},
     "output_type": "execute_result"
    }
   ],
   "source": [
    "X_train.dtypes"
   ]
  },
  {
   "cell_type": "code",
   "execution_count": 541,
   "id": "1010f2e1-0c6f-4e58-b541-1beba21b0831",
   "metadata": {},
   "outputs": [],
   "source": [
    "corr_matrix = X_train.corr()"
   ]
  },
  {
   "cell_type": "code",
   "execution_count": 542,
   "id": "1255c224-66a2-4f8b-a1d0-37335f85a214",
   "metadata": {},
   "outputs": [
    {
     "data": {
      "image/png": "[encoded data removed]",
      "text/plain": [
       "<Figure size 1000x800 with 2 Axes>"
      ]
     },
     "metadata": {},
     "output_type": "display_data"
    }
   ],
   "source": [
    "# Visualize the correlation heat map\n",
    "\n",
    "plt.figure(figsize=(10, 8))  # Adjust figure size\n",
    "sns.heatmap(corr_matrix, annot=True, cmap=\"coolwarm\", fmt=\".2f\", linewidths=0.5)\n",
    "\n",
    "plt.title(\"Feature Correlation Heatmap\")\n",
    "plt.show()"
   ]
  },
  {
   "cell_type": "code",
   "execution_count": 543,
   "id": "fbd9a060-d26a-42bf-a322-3aea114e2edb",
   "metadata": {},
   "outputs": [
    {
     "data": {
      "text/html": [
       "<div>\n",
       "<style scoped>\n",
       "    .dataframe tbody tr th:only-of-type {\n",
       "        vertical-align: middle;\n",
       "    }\n",
       "\n",
       "    .dataframe tbody tr th {\n",
       "        vertical-align: top;\n",
       "    }\n",
       "\n",
       "    .dataframe thead th {\n",
       "        text-align: right;\n",
       "    }\n",
       "</style>\n",
       "<table border=\"1\" class=\"dataframe\">\n",
       "  <thead>\n",
       "    <tr style=\"text-align: right;\">\n",
       "      <th></th>\n",
       "      <th>Feature 1</th>\n",
       "      <th>Feature 2</th>\n",
       "      <th>Correlation</th>\n",
       "    </tr>\n",
       "  </thead>\n",
       "  <tbody>\n",
       "    <tr>\n",
       "      <th>0</th>\n",
       "      <td>type_of_meal_plan_meal_plan_1</td>\n",
       "      <td>type_of_meal_plan_not_selected</td>\n",
       "      <td>-0.741590</td>\n",
       "    </tr>\n",
       "    <tr>\n",
       "      <th>1</th>\n",
       "      <td>type_of_meal_plan_not_selected</td>\n",
       "      <td>type_of_meal_plan_meal_plan_1</td>\n",
       "      <td>-0.741590</td>\n",
       "    </tr>\n",
       "    <tr>\n",
       "      <th>2</th>\n",
       "      <td>room_type_reserved_room_type1</td>\n",
       "      <td>room_type_reserved_room_type4</td>\n",
       "      <td>-0.833359</td>\n",
       "    </tr>\n",
       "    <tr>\n",
       "      <th>3</th>\n",
       "      <td>room_type_reserved_room_type4</td>\n",
       "      <td>room_type_reserved_room_type1</td>\n",
       "      <td>-0.833359</td>\n",
       "    </tr>\n",
       "    <tr>\n",
       "      <th>4</th>\n",
       "      <td>market_segment_type_offline</td>\n",
       "      <td>market_segment_type_online</td>\n",
       "      <td>-0.851823</td>\n",
       "    </tr>\n",
       "    <tr>\n",
       "      <th>5</th>\n",
       "      <td>market_segment_type_online</td>\n",
       "      <td>market_segment_type_offline</td>\n",
       "      <td>-0.851823</td>\n",
       "    </tr>\n",
       "  </tbody>\n",
       "</table>\n",
       "</div>"
      ],
      "text/plain": [
       "                        Feature 1                       Feature 2  Correlation\n",
       "0   type_of_meal_plan_meal_plan_1  type_of_meal_plan_not_selected    -0.741590\n",
       "1  type_of_meal_plan_not_selected   type_of_meal_plan_meal_plan_1    -0.741590\n",
       "2   room_type_reserved_room_type1   room_type_reserved_room_type4    -0.833359\n",
       "3   room_type_reserved_room_type4   room_type_reserved_room_type1    -0.833359\n",
       "4     market_segment_type_offline      market_segment_type_online    -0.851823\n",
       "5      market_segment_type_online     market_segment_type_offline    -0.851823"
      ]
     },
     "execution_count": 543,
     "metadata": {},
     "output_type": "execute_result"
    }
   ],
   "source": [
    "# Get pairs of highly correlated features (got help from Google) -  list comprehension\n",
    "\n",
    "high_corr_pairs = [\n",
    "    (col1, col2, corr_matrix.loc[col1, col2]) \n",
    "    for col1 in corr_matrix.columns \n",
    "    for col2 in corr_matrix.columns \n",
    "    if col1 != col2 and corr_matrix.loc[col1, col2] >= 0.7 or corr_matrix.loc[col1,col2] < -0.7\n",
    "]\n",
    "\n",
    "# Convert to a DataFrame for better readability\n",
    "high_corr_df = pd.DataFrame(high_corr_pairs, columns=[\"Feature 1\", \"Feature 2\", \"Correlation\"])\n",
    "high_corr_df"
   ]
  },
  {
   "cell_type": "markdown",
   "id": "2029a485-adb6-44c0-ba78-70817fcd91bf",
   "metadata": {},
   "source": [
    "### Lets check the correlation between **`X_train`** and **`y_train`** to see which features are strongly related to the target feature"
   ]
  },
  {
   "cell_type": "code",
   "execution_count": 545,
   "id": "19a2b5bf-366c-4869-9ee5-37bf207d2e3b",
   "metadata": {},
   "outputs": [
    {
     "data": {
      "text/plain": [
       "pandas.core.frame.DataFrame"
      ]
     },
     "execution_count": 545,
     "metadata": {},
     "output_type": "execute_result"
    }
   ],
   "source": [
    "# We got NaNs because y_train_encoded is dataframe and we need pandas series.\n",
    "\n",
    "type(y_train_encoded)"
   ]
  },
  {
   "cell_type": "code",
   "execution_count": 546,
   "id": "a304dcaf-5f82-4ccb-91e0-f268e8b3264b",
   "metadata": {},
   "outputs": [],
   "source": [
    "y_train_encoded_series = y_train_encoded.squeeze() # convert the dataframe to pandas series"
   ]
  },
  {
   "cell_type": "code",
   "execution_count": 547,
   "id": "7495f3af-d7b0-4794-b007-81273438b4db",
   "metadata": {},
   "outputs": [
    {
     "data": {
      "text/plain": [
       "pandas.core.series.Series"
      ]
     },
     "execution_count": 547,
     "metadata": {},
     "output_type": "execute_result"
    }
   ],
   "source": [
    "type(y_train_encoded_series)"
   ]
  },
  {
   "cell_type": "code",
   "execution_count": 548,
   "id": "f219501e-de30-46be-9468-271e0289e336",
   "metadata": {},
   "outputs": [],
   "source": [
    "correlated_features = ['room_type_reserved_room_type1','room_type_reserved_room_type4', 'market_segment_type_offline','market_segment_type_online', 'type_of_meal_plan_meal_plan_1','type_of_meal_plan_not_selected']"
   ]
  },
  {
   "cell_type": "code",
   "execution_count": 549,
   "id": "a19518bc-51e9-4833-bd95-6d3004b49551",
   "metadata": {},
   "outputs": [
    {
     "name": "stdout",
     "output_type": "stream",
     "text": [
      "type_of_meal_plan_not_selected    0.006896\n",
      "room_type_reserved_room_type4     0.006639\n",
      "room_type_reserved_room_type1     0.005379\n",
      "type_of_meal_plan_meal_plan_1     0.005307\n",
      "market_segment_type_online        0.004573\n",
      "market_segment_type_offline       0.002914\n",
      "dtype: float64\n"
     ]
    }
   ],
   "source": [
    "corr_with_target = X_train.corrwith(y_train_encoded_series)  # Compute correlation with target\n",
    "print(corr_with_target[correlated_features].abs().sort_values(ascending=False))  # Sort by importance\n"
   ]
  },
  {
   "cell_type": "markdown",
   "id": "2753e284-8848-413f-92f4-e2d9b27efa1f",
   "metadata": {},
   "source": [
    "**Based on the result above, I could keep `market_segment_type_online` and drop `market_segment_type_offline` since the online feature has a bigger correlation rate compared to offline. Because we know these features are highly correlated with each other, so we should drop the one that has low importance for our target feature.** \n",
    "\n",
    "**The same way, I can drop `room_type_reserved_room_type4` and keep `room_type_reserved_room_type1` to improve our model.**"
   ]
  },
  {
   "cell_type": "markdown",
   "id": "36b7c51a-befb-4629-b3ad-0cb4b774e42d",
   "metadata": {},
   "source": [
    "## After checking correlation for `MULTICOLLINEARITY`. Now we can check `VIF` to make sure about the features "
   ]
  },
  {
   "cell_type": "code",
   "execution_count": 552,
   "id": "8be684cd-fa87-4e53-8f70-742ca1d66942",
   "metadata": {},
   "outputs": [],
   "source": [
    "from statsmodels.stats.outliers_influence import variance_inflation_factor"
   ]
  },
  {
   "cell_type": "code",
   "execution_count": 553,
   "id": "91bc8a8a-1269-4dee-967c-273d7fbf8c1d",
   "metadata": {},
   "outputs": [],
   "source": [
    "# Some of the VIF scores were listed as inf, then I needed to drop three columns from each one hot encoded columns \n",
    "# in order to calculate the VIF scores. Now I see very high VIF scores on season columns. \n",
    "\n",
    "multi_corr_columns = ['room_type_reserved_room_type4','market_segment_type_offline','type_of_meal_plan_meal_plan_1']\n",
    "\n",
    "X_train_dropped_corr = X_train.drop(multi_corr_columns, axis = 1)\n",
    "X_valid_dropped_corr = X_valid.drop(multi_corr_columns, axis = 1)"
   ]
  },
  {
   "cell_type": "code",
   "execution_count": 554,
   "id": "118182e8-c87c-40d5-a264-732dbf5fa373",
   "metadata": {},
   "outputs": [],
   "source": [
    "vif_df = pd.DataFrame()\n",
    "vif_df['features'] = X_train_dropped_corr.columns\n",
    "vif_df['VIF'] = [variance_inflation_factor(X_train_dropped_corr.values, i) for i in range(X_train_dropped_corr.shape[1])]"
   ]
  },
  {
   "cell_type": "code",
   "execution_count": 555,
   "id": "0118c3e0-bb12-45c3-a594-45ee873526e7",
   "metadata": {},
   "outputs": [
    {
     "data": {
      "text/html": [
       "<div>\n",
       "<style scoped>\n",
       "    .dataframe tbody tr th:only-of-type {\n",
       "        vertical-align: middle;\n",
       "    }\n",
       "\n",
       "    .dataframe tbody tr th {\n",
       "        vertical-align: top;\n",
       "    }\n",
       "\n",
       "    .dataframe thead th {\n",
       "        text-align: right;\n",
       "    }\n",
       "</style>\n",
       "<table border=\"1\" class=\"dataframe\">\n",
       "  <thead>\n",
       "    <tr style=\"text-align: right;\">\n",
       "      <th></th>\n",
       "      <th>features</th>\n",
       "      <th>VIF</th>\n",
       "    </tr>\n",
       "  </thead>\n",
       "  <tbody>\n",
       "    <tr>\n",
       "      <th>0</th>\n",
       "      <td>no_of_adults</td>\n",
       "      <td>1.362737</td>\n",
       "    </tr>\n",
       "    <tr>\n",
       "      <th>1</th>\n",
       "      <td>no_of_children</td>\n",
       "      <td>2.079745</td>\n",
       "    </tr>\n",
       "    <tr>\n",
       "      <th>2</th>\n",
       "      <td>no_of_weekend_nights</td>\n",
       "      <td>1.070324</td>\n",
       "    </tr>\n",
       "    <tr>\n",
       "      <th>3</th>\n",
       "      <td>no_of_week_nights</td>\n",
       "      <td>1.101093</td>\n",
       "    </tr>\n",
       "    <tr>\n",
       "      <th>4</th>\n",
       "      <td>required_car_parking_space</td>\n",
       "      <td>1.037646</td>\n",
       "    </tr>\n",
       "    <tr>\n",
       "      <th>5</th>\n",
       "      <td>lead_time</td>\n",
       "      <td>1.276568</td>\n",
       "    </tr>\n",
       "    <tr>\n",
       "      <th>6</th>\n",
       "      <td>repeated_guest</td>\n",
       "      <td>1.814354</td>\n",
       "    </tr>\n",
       "    <tr>\n",
       "      <th>7</th>\n",
       "      <td>no_of_previous_cancellations</td>\n",
       "      <td>1.292553</td>\n",
       "    </tr>\n",
       "    <tr>\n",
       "      <th>8</th>\n",
       "      <td>no_of_previous_bookings_not_canceled</td>\n",
       "      <td>1.600012</td>\n",
       "    </tr>\n",
       "    <tr>\n",
       "      <th>9</th>\n",
       "      <td>avg_price_per_room</td>\n",
       "      <td>2.128502</td>\n",
       "    </tr>\n",
       "    <tr>\n",
       "      <th>10</th>\n",
       "      <td>no_of_special_requests</td>\n",
       "      <td>1.245645</td>\n",
       "    </tr>\n",
       "    <tr>\n",
       "      <th>11</th>\n",
       "      <td>type_of_meal_plan_meal_plan_2</td>\n",
       "      <td>1.197021</td>\n",
       "    </tr>\n",
       "    <tr>\n",
       "      <th>12</th>\n",
       "      <td>type_of_meal_plan_meal_plan_3</td>\n",
       "      <td>1.028700</td>\n",
       "    </tr>\n",
       "    <tr>\n",
       "      <th>13</th>\n",
       "      <td>type_of_meal_plan_not_selected</td>\n",
       "      <td>1.246185</td>\n",
       "    </tr>\n",
       "    <tr>\n",
       "      <th>14</th>\n",
       "      <td>room_type_reserved_room_type1</td>\n",
       "      <td>1.695728</td>\n",
       "    </tr>\n",
       "    <tr>\n",
       "      <th>15</th>\n",
       "      <td>room_type_reserved_room_type2</td>\n",
       "      <td>1.231147</td>\n",
       "    </tr>\n",
       "    <tr>\n",
       "      <th>16</th>\n",
       "      <td>room_type_reserved_room_type3</td>\n",
       "      <td>1.003208</td>\n",
       "    </tr>\n",
       "    <tr>\n",
       "      <th>17</th>\n",
       "      <td>room_type_reserved_room_type5</td>\n",
       "      <td>1.063309</td>\n",
       "    </tr>\n",
       "    <tr>\n",
       "      <th>18</th>\n",
       "      <td>room_type_reserved_room_type6</td>\n",
       "      <td>2.105480</td>\n",
       "    </tr>\n",
       "    <tr>\n",
       "      <th>19</th>\n",
       "      <td>room_type_reserved_room_type7</td>\n",
       "      <td>1.107667</td>\n",
       "    </tr>\n",
       "    <tr>\n",
       "      <th>20</th>\n",
       "      <td>market_segment_type_aviation</td>\n",
       "      <td>1.044359</td>\n",
       "    </tr>\n",
       "    <tr>\n",
       "      <th>21</th>\n",
       "      <td>market_segment_type_complementary</td>\n",
       "      <td>1.356437</td>\n",
       "    </tr>\n",
       "    <tr>\n",
       "      <th>22</th>\n",
       "      <td>market_segment_type_corporate</td>\n",
       "      <td>1.516377</td>\n",
       "    </tr>\n",
       "    <tr>\n",
       "      <th>23</th>\n",
       "      <td>market_segment_type_online</td>\n",
       "      <td>1.818657</td>\n",
       "    </tr>\n",
       "    <tr>\n",
       "      <th>24</th>\n",
       "      <td>season_ Summer</td>\n",
       "      <td>15.875773</td>\n",
       "    </tr>\n",
       "    <tr>\n",
       "      <th>25</th>\n",
       "      <td>season_Fall</td>\n",
       "      <td>18.775459</td>\n",
       "    </tr>\n",
       "    <tr>\n",
       "      <th>26</th>\n",
       "      <td>season_Spring</td>\n",
       "      <td>11.518208</td>\n",
       "    </tr>\n",
       "    <tr>\n",
       "      <th>27</th>\n",
       "      <td>season_Winter</td>\n",
       "      <td>8.132414</td>\n",
       "    </tr>\n",
       "  </tbody>\n",
       "</table>\n",
       "</div>"
      ],
      "text/plain": [
       "                                features        VIF\n",
       "0                           no_of_adults   1.362737\n",
       "1                         no_of_children   2.079745\n",
       "2                   no_of_weekend_nights   1.070324\n",
       "3                      no_of_week_nights   1.101093\n",
       "4             required_car_parking_space   1.037646\n",
       "5                              lead_time   1.276568\n",
       "6                         repeated_guest   1.814354\n",
       "7           no_of_previous_cancellations   1.292553\n",
       "8   no_of_previous_bookings_not_canceled   1.600012\n",
       "9                     avg_price_per_room   2.128502\n",
       "10                no_of_special_requests   1.245645\n",
       "11         type_of_meal_plan_meal_plan_2   1.197021\n",
       "12         type_of_meal_plan_meal_plan_3   1.028700\n",
       "13        type_of_meal_plan_not_selected   1.246185\n",
       "14         room_type_reserved_room_type1   1.695728\n",
       "15         room_type_reserved_room_type2   1.231147\n",
       "16         room_type_reserved_room_type3   1.003208\n",
       "17         room_type_reserved_room_type5   1.063309\n",
       "18         room_type_reserved_room_type6   2.105480\n",
       "19         room_type_reserved_room_type7   1.107667\n",
       "20          market_segment_type_aviation   1.044359\n",
       "21     market_segment_type_complementary   1.356437\n",
       "22         market_segment_type_corporate   1.516377\n",
       "23            market_segment_type_online   1.818657\n",
       "24                        season_ Summer  15.875773\n",
       "25                           season_Fall  18.775459\n",
       "26                         season_Spring  11.518208\n",
       "27                         season_Winter   8.132414"
      ]
     },
     "execution_count": 555,
     "metadata": {},
     "output_type": "execute_result"
    }
   ],
   "source": [
    "vif_df"
   ]
  },
  {
   "cell_type": "markdown",
   "id": "a2c5f19b-8341-4a0f-b9e2-6788bda26520",
   "metadata": {},
   "source": [
    "**_________________________________________________________________________________________________________________________________________**\n",
    "\n",
    "\n",
    "### Scale the `X_train_dropped_corr` and `X_valid_dropped_corr`\n",
    "\n",
    "### Then convert the `X_train_dropped_scaled` and `X_valid_dropped_scaled` to torch.tensor"
   ]
  },
  {
   "cell_type": "code",
   "execution_count": 557,
   "id": "0ee74b06-89e0-4cef-80bd-166cb0a69675",
   "metadata": {},
   "outputs": [],
   "source": [
    "X_train_dropped_scaled = scaler.fit_transform(X_train_dropped_corr)\n",
    "X_train_dropped_scaled = pd.DataFrame(X_train_dropped_scaled, columns=X_train_dropped_corr.columns)\n",
    "\n",
    "X_valid_dropped_scaled = scaler.transform(X_valid_dropped_corr)\n",
    "X_valid_dropped_scaled = pd.DataFrame(X_valid_dropped_scaled, columns= X_train_dropped_corr.columns)"
   ]
  },
  {
   "cell_type": "code",
   "execution_count": 558,
   "id": "a400826c-ca62-4b5a-8c1d-9f6adb99de03",
   "metadata": {},
   "outputs": [],
   "source": [
    "X_train_dropped_tensor = torch.tensor(X_train_dropped_scaled.values)\n",
    "X_valid_dropped_tensor = torch.tensor(X_valid_dropped_scaled.values) \n",
    "\n",
    "X_train_dropped_tensor = X_train_dropped_tensor.float()\n",
    "X_valid_dropped_tensor = X_valid_dropped_tensor.float()"
   ]
  },
  {
   "cell_type": "code",
   "execution_count": 559,
   "id": "3d0455bf-a474-4822-8483-255f45a8abf2",
   "metadata": {},
   "outputs": [
    {
     "data": {
      "text/plain": [
       "28"
      ]
     },
     "execution_count": 559,
     "metadata": {},
     "output_type": "execute_result"
    }
   ],
   "source": [
    "X_train_dropped_corr.shape[1]"
   ]
  },
  {
   "cell_type": "markdown",
   "id": "1900d2f6-119f-4cbc-b355-522502613cca",
   "metadata": {},
   "source": [
    "## Create a new model and training loop and run the model for the new tensors_drop "
   ]
  },
  {
   "cell_type": "code",
   "execution_count": 561,
   "id": "4bbd580c-a8f4-4b69-b515-cee79e592969",
   "metadata": {},
   "outputs": [
    {
     "data": {
      "text/plain": [
       "Sequential(\n",
       "  (0): Linear(in_features=28, out_features=64, bias=True)\n",
       "  (1): ReLU()\n",
       "  (2): Linear(in_features=64, out_features=32, bias=True)\n",
       "  (3): ReLU()\n",
       "  (4): Linear(in_features=32, out_features=16, bias=True)\n",
       "  (5): ReLU()\n",
       "  (6): Linear(in_features=16, out_features=1, bias=True)\n",
       "  (7): Sigmoid()\n",
       ")"
      ]
     },
     "execution_count": 561,
     "metadata": {},
     "output_type": "execute_result"
    }
   ],
   "source": [
    "input_dim_drop = X_train_dropped_corr.shape[1]\n",
    "\n",
    "nn_seq_model_drop = nn.Sequential(\n",
    "            nn.Linear(input_dim_drop,64),\n",
    "            nn.ReLU(),\n",
    "            nn.Linear(64,32),\n",
    "            nn.ReLU(), \n",
    "            nn.Linear(32,16),\n",
    "            nn.ReLU(),\n",
    "            nn.Linear(16,1),\n",
    "            nn.Sigmoid()  ## Sigmoid activation function for binary classification\n",
    ")\n",
    "\n",
    "nn_seq_model_drop"
   ]
  },
  {
   "cell_type": "code",
   "execution_count": 562,
   "id": "c573587a-b93c-4ba8-b32a-378f7572d026",
   "metadata": {},
   "outputs": [],
   "source": [
    "def training_loop_nn_drop(n_epochs, optimizer, model, loss_fn, X_train_tensor, X_valid_tensor, y_train_tensor, y_valid_tensor): \n",
    "    train_losses_drop = []\n",
    "    valid_losses_drop = []\n",
    "    \n",
    "    for epoch in range (1, n_epochs + 1): \n",
    "        X_train_pred_drop = nn_seq_model_drop(X_train_dropped_tensor)\n",
    "        loss_train_drop = loss_fn(X_train_pred_drop, y_train_tensor) \n",
    "\n",
    "        X_valid_pred_drop = nn_seq_model_drop(X_valid_dropped_tensor)\n",
    "        loss_valid_drop = loss_fn(X_valid_pred_drop, y_valid_tensor)\n",
    "\n",
    "        optimizer.zero_grad(),\n",
    "        loss_train_drop.backward(),\n",
    "        optimizer.step()\n",
    "\n",
    "        train_losses_drop.append(loss_train_drop.item())\n",
    "        valid_losses_drop.append(loss_valid_drop.item())\n",
    "\n",
    "        if epoch == 1 or epoch % 1000 ==0: \n",
    "            print(f\"Epoch {epoch}, Training loss {loss_train_drop.item() :.4f},\" \n",
    "                  f\" Validation loss {loss_valid_drop.item():.4f}\")\n",
    "\n",
    "    return train_losses_drop, valid_losses_drop"
   ]
  },
  {
   "cell_type": "code",
   "execution_count": 563,
   "id": "ff58d5c2-f68e-41d9-9437-63cd88795877",
   "metadata": {},
   "outputs": [
    {
     "name": "stdout",
     "output_type": "stream",
     "text": [
      "Epoch 1, Training loss 0.7043, Validation loss 0.7037\n",
      "Epoch 1000, Training loss 0.6056, Validation loss 0.6078\n",
      "Epoch 2000, Training loss 0.4851, Validation loss 0.4921\n",
      "Epoch 3000, Training loss 0.4157, Validation loss 0.4246\n",
      "Epoch 4000, Training loss 0.4018, Validation loss 0.4117\n",
      "Epoch 5000, Training loss 0.3929, Validation loss 0.4030\n",
      "Epoch 6000, Training loss 0.3857, Validation loss 0.4077\n",
      "Epoch 7000, Training loss 0.3794, Validation loss 0.4013\n",
      "Epoch 8000, Training loss 0.3740, Validation loss 0.3959\n",
      "Epoch 9000, Training loss 0.3693, Validation loss 0.3915\n",
      "Epoch 10000, Training loss 0.3651, Validation loss 0.3878\n",
      "\n"
     ]
    }
   ],
   "source": [
    "optimizer = optim.SGD(nn_seq_model_drop.parameters(), lr = 1e-2)\n",
    "\n",
    "train_losses_drop, valid_losses_drop = training_loop_nn_drop(\n",
    "    n_epochs= 10000, \n",
    "    optimizer= optimizer, \n",
    "    model= nn_seq_model_drop, \n",
    "    loss_fn= nn.BCELoss(),\n",
    "    X_train_tensor= X_train_dropped_tensor, \n",
    "    X_valid_tensor= X_valid_dropped_tensor, \n",
    "    y_train_tensor= y_train_tensor, \n",
    "    y_valid_tensor= y_valid_tensor\n",
    ")\n",
    "\n",
    "print()"
   ]
  },
  {
   "cell_type": "code",
   "execution_count": 564,
   "id": "554bb2b4-8d0b-4b2f-bc31-029a7dc77285",
   "metadata": {},
   "outputs": [
    {
     "data": {
      "image/png": "[encoded data removed]",
      "text/plain": [
       "<Figure size 1000x600 with 1 Axes>"
      ]
     },
     "metadata": {},
     "output_type": "display_data"
    }
   ],
   "source": [
    "plt.figure(figsize=(10, 6))\n",
    "plt.plot(train_losses_drop, label = \"Training Loss\", color = 'blue')\n",
    "plt.plot(valid_losses_drop, label = \"Validation Loss\", color = 'red')\n",
    "plt.xlabel(\"Epochs\")\n",
    "plt.ylabel(\"Loss\")\n",
    "plt.title(\"Training and Validation Loss in Dropped Dataset Over Time\")\n",
    "plt.legend()\n",
    "plt.grid()\n",
    "plt.show()"
   ]
  },
  {
   "cell_type": "code",
   "execution_count": 565,
   "id": "b5370f28-f79e-4ed4-8807-3ba024f27b34",
   "metadata": {},
   "outputs": [],
   "source": [
    "with torch.no_grad(): \n",
    "    X_valid_drop_pred = nn_seq_model_drop(X_valid_dropped_tensor)\n",
    "    y_valid_drop_pred = (X_valid_drop_pred > 0.5).float() "
   ]
  },
  {
   "cell_type": "code",
   "execution_count": 566,
   "id": "01d315dc-dd08-477d-9546-98dd3acb6ffc",
   "metadata": {},
   "outputs": [
    {
     "data": {
      "text/plain": [
       "array([[1640,  761],\n",
       "       [ 442, 4405]])"
      ]
     },
     "execution_count": 566,
     "metadata": {},
     "output_type": "execute_result"
    }
   ],
   "source": [
    "cm_drop = confusion_matrix(y_valid_tensor, y_valid_drop_pred)\n",
    "cm_drop"
   ]
  },
  {
   "cell_type": "code",
   "execution_count": 567,
   "id": "30386eb7-081f-4335-bfe1-9767113235af",
   "metadata": {},
   "outputs": [],
   "source": [
    "accuracy_drop = accuracy_score(y_valid_tensor, y_valid_drop_pred)\n",
    "precision_drop = precision_score(y_valid_tensor, y_valid_drop_pred)\n",
    "recall_drop = recall_score(y_valid_tensor, y_valid_drop_pred)\n",
    "f1_drop = f1_score(y_valid_tensor, y_valid_drop_pred)"
   ]
  },
  {
   "cell_type": "code",
   "execution_count": 568,
   "id": "a77d0544-60c2-421e-81b2-2be5d01033ee",
   "metadata": {},
   "outputs": [],
   "source": [
    "with torch.no_grad():\n",
    "    X_valid_pred_drop = nn_seq_model_drop(X_valid_dropped_tensor)\n",
    "    y_valid_pred_drop = X_valid_pred_drop.detach().numpy()"
   ]
  },
  {
   "cell_type": "code",
   "execution_count": 569,
   "id": "ee1a7ef4-3fb9-4ab8-a43f-d61d49eeb309",
   "metadata": {},
   "outputs": [],
   "source": [
    "fpr_drop, tpr_drop, thresholds_drop = roc_curve(y_valid_true, y_valid_pred_drop)"
   ]
  },
  {
   "cell_type": "code",
   "execution_count": 570,
   "id": "7df87b04-bfd2-4626-8fb6-2fcb5ab02f3e",
   "metadata": {},
   "outputs": [
    {
     "data": {
      "text/plain": [
       "0.8953963374211298"
      ]
     },
     "execution_count": 570,
     "metadata": {},
     "output_type": "execute_result"
    }
   ],
   "source": [
    "auc_score_drop = auc(fpr_drop, tpr_drop)\n",
    "auc_score_drop"
   ]
  },
  {
   "cell_type": "code",
   "execution_count": 571,
   "id": "b8165ab5-fd38-49f4-b54a-e5cef2cca0e3",
   "metadata": {},
   "outputs": [
    {
     "data": {
      "text/html": [
       "<div>\n",
       "<style scoped>\n",
       "    .dataframe tbody tr th:only-of-type {\n",
       "        vertical-align: middle;\n",
       "    }\n",
       "\n",
       "    .dataframe tbody tr th {\n",
       "        vertical-align: top;\n",
       "    }\n",
       "\n",
       "    .dataframe thead th {\n",
       "        text-align: right;\n",
       "    }\n",
       "</style>\n",
       "<table border=\"1\" class=\"dataframe\">\n",
       "  <thead>\n",
       "    <tr style=\"text-align: right;\">\n",
       "      <th></th>\n",
       "      <th>Model</th>\n",
       "      <th>Accuracy</th>\n",
       "      <th>Precision Score</th>\n",
       "      <th>Sensitivity</th>\n",
       "      <th>F1 Score</th>\n",
       "      <th>AUC</th>\n",
       "    </tr>\n",
       "  </thead>\n",
       "  <tbody>\n",
       "    <tr>\n",
       "      <th>0</th>\n",
       "      <td>Neural Network</td>\n",
       "      <td>0.835403</td>\n",
       "      <td>0.853522</td>\n",
       "      <td>0.910047</td>\n",
       "      <td>0.880879</td>\n",
       "      <td>0.893901</td>\n",
       "    </tr>\n",
       "  </tbody>\n",
       "</table>\n",
       "</div>"
      ],
      "text/plain": [
       "            Model  Accuracy Precision Score Sensitivity  F1 Score       AUC\n",
       "0  Neural Network  0.835403        0.853522    0.910047  0.880879  0.893901"
      ]
     },
     "execution_count": 571,
     "metadata": {},
     "output_type": "execute_result"
    }
   ],
   "source": [
    "con_matrix_results_df"
   ]
  },
  {
   "cell_type": "code",
   "execution_count": 572,
   "id": "abd513d1-3672-4274-8d4e-8ea082bef371",
   "metadata": {},
   "outputs": [],
   "source": [
    "new_results = {\n",
    "    \"Model\" : \"Neural Network Drop\",\n",
    "    \"Accuracy\" : accuracy_drop, \n",
    "    \"Precision Score\" : precision_drop, \n",
    "    \"Sensitivity\" : recall_drop, \n",
    "    \"F1 Score\" : f1_drop, \n",
    "    \"AUC\" : auc_score_drop\n",
    "}"
   ]
  },
  {
   "cell_type": "code",
   "execution_count": 573,
   "id": "a82d3070-059c-44dd-9a1e-07916929daaf",
   "metadata": {},
   "outputs": [],
   "source": [
    "con_matrix_results_df.loc[len(con_matrix_results_df)] = new_results\n"
   ]
  },
  {
   "cell_type": "code",
   "execution_count": 574,
   "id": "8b3d9a1d-2c91-4edf-b77a-9e6c1900604b",
   "metadata": {},
   "outputs": [
    {
     "data": {
      "text/html": [
       "<div>\n",
       "<style scoped>\n",
       "    .dataframe tbody tr th:only-of-type {\n",
       "        vertical-align: middle;\n",
       "    }\n",
       "\n",
       "    .dataframe tbody tr th {\n",
       "        vertical-align: top;\n",
       "    }\n",
       "\n",
       "    .dataframe thead th {\n",
       "        text-align: right;\n",
       "    }\n",
       "</style>\n",
       "<table border=\"1\" class=\"dataframe\">\n",
       "  <thead>\n",
       "    <tr style=\"text-align: right;\">\n",
       "      <th></th>\n",
       "      <th>Model</th>\n",
       "      <th>Accuracy</th>\n",
       "      <th>Precision Score</th>\n",
       "      <th>Sensitivity</th>\n",
       "      <th>F1 Score</th>\n",
       "      <th>AUC</th>\n",
       "    </tr>\n",
       "  </thead>\n",
       "  <tbody>\n",
       "    <tr>\n",
       "      <th>0</th>\n",
       "      <td>Neural Network</td>\n",
       "      <td>0.835403</td>\n",
       "      <td>0.853522</td>\n",
       "      <td>0.910047</td>\n",
       "      <td>0.880879</td>\n",
       "      <td>0.893901</td>\n",
       "    </tr>\n",
       "    <tr>\n",
       "      <th>1</th>\n",
       "      <td>Neural Network Drop</td>\n",
       "      <td>0.834023</td>\n",
       "      <td>0.852691</td>\n",
       "      <td>0.90881</td>\n",
       "      <td>0.879856</td>\n",
       "      <td>0.895396</td>\n",
       "    </tr>\n",
       "  </tbody>\n",
       "</table>\n",
       "</div>"
      ],
      "text/plain": [
       "                 Model  Accuracy Precision Score Sensitivity  F1 Score  \\\n",
       "0       Neural Network  0.835403        0.853522    0.910047  0.880879   \n",
       "1  Neural Network Drop  0.834023        0.852691     0.90881  0.879856   \n",
       "\n",
       "        AUC  \n",
       "0  0.893901  \n",
       "1  0.895396  "
      ]
     },
     "execution_count": 574,
     "metadata": {},
     "output_type": "execute_result"
    }
   ],
   "source": [
    "con_matrix_results_df"
   ]
  },
  {
   "cell_type": "code",
   "execution_count": null,
   "id": "1a3828e2-7b27-44a8-97eb-51eeb9d1af70",
   "metadata": {},
   "outputs": [],
   "source": []
  },
  {
   "cell_type": "markdown",
   "id": "bf875af5-2307-4a6b-b1b4-e62febcd9f5b",
   "metadata": {},
   "source": [
    "**_________________________________________________________________________________________________________________________________________**\n",
    "\n",
    "\n",
    "# Before we run the model on X_test and y_test, \n",
    "\n",
    "- Apply one-hot encoding to X_test\n",
    "- Apply label encoding to y_test\n",
    "- Scale the X_test\n",
    "- Convert X_test_scaled to tensor and y_test_encoded to tensor\n",
    "- use the prefered model on X_test_tensor and y_test_tensor\n",
    "- Check the Accuracy and AUC for the X_test. \n"
   ]
  },
  {
   "cell_type": "code",
   "execution_count": null,
   "id": "30f2a652-e588-4dfe-8b54-2657da138ca0",
   "metadata": {},
   "outputs": [],
   "source": []
  }
 ],
 "metadata": {
  "kernelspec": {
   "display_name": "Python 3 (ipykernel)",
   "language": "python",
   "name": "python3"
  },
  "language_info": {
   "codemirror_mode": {
    "name": "ipython",
    "version": 3
   },
   "file_extension": ".py",
   "mimetype": "text/x-python",
   "name": "python",
   "nbconvert_exporter": "python",
   "pygments_lexer": "ipython3",
   "version": "3.11.7"
  }
 },
 "nbformat": 4,
 "nbformat_minor": 5
}
